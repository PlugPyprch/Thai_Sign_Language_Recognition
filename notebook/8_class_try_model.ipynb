{
 "cells": [
  {
   "cell_type": "code",
   "execution_count": 1,
   "id": "882d4573-bb1b-49c7-9b38-df655a05f03a",
   "metadata": {},
   "outputs": [],
   "source": [
    "from sklearn.model_selection import train_test_split\n",
    "from tensorflow.keras.utils import to_categorical\n",
    "from sklearn.preprocessing import MinMaxScaler\n",
    "import numpy as np\n",
    "import os\n",
    "import tensorflow as tf\n",
    "import matplotlib.pyplot as plt"
   ]
  },
  {
   "cell_type": "code",
   "execution_count": 2,
   "id": "31b94ce0-e4ab-4f22-ac1e-8e7643fe640a",
   "metadata": {},
   "outputs": [],
   "source": [
    "actions = ['cold', 'dizziness', 'allergic_reaction', 'snot', 'unwell', 'unwell', 'hello', 'myself']\n",
    "actions = np.array(actions)"
   ]
  },
  {
   "cell_type": "code",
   "execution_count": 3,
   "id": "196be2cf-6d72-4059-a377-f0e93fde991f",
   "metadata": {},
   "outputs": [],
   "source": [
    "label_map = {label:num for num, label in enumerate(actions)}"
   ]
  },
  {
   "cell_type": "code",
   "execution_count": 4,
   "id": "1bb5b59d-0a44-476c-b6b4-8e1570923427",
   "metadata": {},
   "outputs": [
    {
     "data": {
      "text/plain": [
       "{'cold': 0,\n",
       " 'dizziness': 1,\n",
       " 'allergic_reaction': 2,\n",
       " 'snot': 3,\n",
       " 'unwell': 5,\n",
       " 'hello': 6,\n",
       " 'myself': 7}"
      ]
     },
     "execution_count": 4,
     "metadata": {},
     "output_type": "execute_result"
    }
   ],
   "source": [
    "label_map"
   ]
  },
  {
   "cell_type": "code",
   "execution_count": 5,
   "id": "cc0cb871-299a-4c99-9249-58e882996596",
   "metadata": {},
   "outputs": [],
   "source": [
    "sequences, labels = [], []\n",
    "for action in actions:\n",
    "    for sequence in range(200):\n",
    "        window = []\n",
    "        for frame_num in range(90):\n",
    "            res = np.load(os.path.join('keypoints', action, str(sequence+1), \"{}.npy\".format(frame_num)))\n",
    "            window.append(res)\n",
    "        sequences.append(window)\n",
    "        labels.append(label_map[action])"
   ]
  },
  {
   "cell_type": "code",
   "execution_count": 6,
   "id": "0bd694a1-29cd-4694-b209-f950e318105f",
   "metadata": {},
   "outputs": [
    {
     "data": {
      "text/plain": [
       "(1600, 90, 1662)"
      ]
     },
     "execution_count": 6,
     "metadata": {},
     "output_type": "execute_result"
    }
   ],
   "source": [
    "np.array(sequences).shape"
   ]
  },
  {
   "cell_type": "code",
   "execution_count": 7,
   "id": "dcd65601-575a-465d-a55a-3e15c36da6df",
   "metadata": {},
   "outputs": [
    {
     "data": {
      "text/plain": [
       "(1600,)"
      ]
     },
     "execution_count": 7,
     "metadata": {},
     "output_type": "execute_result"
    }
   ],
   "source": [
    "np.array(labels).shape"
   ]
  },
  {
   "cell_type": "code",
   "execution_count": 8,
   "id": "2b9d76be-3b34-4900-83e3-61d5bc8c2ed3",
   "metadata": {},
   "outputs": [],
   "source": [
    "X = np.array(sequences)"
   ]
  },
  {
   "cell_type": "code",
   "execution_count": 9,
   "id": "5226727b-92e2-45ef-a3c9-eb322c858dea",
   "metadata": {},
   "outputs": [
    {
     "data": {
      "text/plain": [
       "(1600, 90, 1662)"
      ]
     },
     "execution_count": 9,
     "metadata": {},
     "output_type": "execute_result"
    }
   ],
   "source": [
    "X.shape"
   ]
  },
  {
   "cell_type": "code",
   "execution_count": 10,
   "id": "94534a89-2e9b-4685-a284-ce90410afbca",
   "metadata": {},
   "outputs": [],
   "source": [
    "y = to_categorical(labels).astype(int)"
   ]
  },
  {
   "cell_type": "code",
   "execution_count": 11,
   "id": "99a6fec7-c481-4898-8b26-f43e3f450a81",
   "metadata": {},
   "outputs": [
    {
     "data": {
      "text/plain": [
       "(1600, 8)"
      ]
     },
     "execution_count": 11,
     "metadata": {},
     "output_type": "execute_result"
    }
   ],
   "source": [
    "y.shape"
   ]
  },
  {
   "cell_type": "code",
   "execution_count": 12,
   "id": "8275970b-586a-4cc0-a6e4-9a8ed0718eda",
   "metadata": {},
   "outputs": [
    {
     "data": {
      "text/plain": [
       "array([1, 0, 0, 0, 0, 0, 0, 0])"
      ]
     },
     "execution_count": 12,
     "metadata": {},
     "output_type": "execute_result"
    }
   ],
   "source": [
    "y[0]"
   ]
  },
  {
   "cell_type": "code",
   "execution_count": 13,
   "id": "f53b2faf-dae7-4548-bc8d-0c008caea5df",
   "metadata": {},
   "outputs": [],
   "source": [
    "scaler = MinMaxScaler(feature_range=(0,1))"
   ]
  },
  {
   "cell_type": "code",
   "execution_count": 14,
   "id": "e057cc56-2c2d-4282-89f3-f07e181b25aa",
   "metadata": {},
   "outputs": [],
   "source": [
    "X_scale = scaler.fit_transform(X.reshape(X.shape[0], -1)).reshape(X.shape)"
   ]
  },
  {
   "cell_type": "code",
   "execution_count": 15,
   "id": "029ff727-b3b1-4e8c-aa26-d181231d0385",
   "metadata": {},
   "outputs": [],
   "source": [
    "X_train, X_test, y_train, y_test = train_test_split(X_scale, y, test_size=0.2)"
   ]
  },
  {
   "cell_type": "code",
   "execution_count": 16,
   "id": "1f4b38e0-3315-4c58-8741-585828541282",
   "metadata": {},
   "outputs": [
    {
     "data": {
      "text/plain": [
       "(320, 90, 1662)"
      ]
     },
     "execution_count": 16,
     "metadata": {},
     "output_type": "execute_result"
    }
   ],
   "source": [
    "X_test.shape"
   ]
  },
  {
   "cell_type": "code",
   "execution_count": 17,
   "id": "2ec3c8d7-44f8-4143-814c-46c3b96e3d31",
   "metadata": {},
   "outputs": [
    {
     "data": {
      "text/plain": [
       "(320, 8)"
      ]
     },
     "execution_count": 17,
     "metadata": {},
     "output_type": "execute_result"
    }
   ],
   "source": [
    "y_test.shape"
   ]
  },
  {
   "cell_type": "code",
   "execution_count": 18,
   "id": "1f9afaa1-cee1-46db-928d-af3eee392916",
   "metadata": {},
   "outputs": [],
   "source": [
    "model = tf.keras.models.load_model('models/baseline_8class_8250.h5')"
   ]
  },
  {
   "cell_type": "code",
   "execution_count": 19,
   "id": "aea0d31e-ac5a-4569-bab1-76752d527351",
   "metadata": {},
   "outputs": [
    {
     "name": "stderr",
     "output_type": "stream",
     "text": [
      "2023-01-08 01:59:38.767107: W tensorflow/core/platform/profile_utils/cpu_utils.cc:128] Failed to get CPU frequency: 0 Hz\n"
     ]
    },
    {
     "name": "stdout",
     "output_type": "stream",
     "text": [
      "10/10 [==============================] - 1s 27ms/step - loss: 0.5184 - categorical_accuracy: 0.8062\n"
     ]
    },
    {
     "data": {
      "text/plain": [
       "[0.5183953046798706, 0.8062499761581421]"
      ]
     },
     "execution_count": 19,
     "metadata": {},
     "output_type": "execute_result"
    }
   ],
   "source": [
    "model.evaluate(X_test, y_test)"
   ]
  },
  {
   "cell_type": "code",
   "execution_count": 20,
   "id": "e0a33345-0e2e-44d2-a2a5-3912711b2f33",
   "metadata": {},
   "outputs": [
    {
     "name": "stdout",
     "output_type": "stream",
     "text": [
      "1/1 [==============================] - 0s 113ms/step\n"
     ]
    }
   ],
   "source": [
    "y0_pred = model.predict(tf.expand_dims(X_test[1], axis=0))"
   ]
  },
  {
   "cell_type": "code",
   "execution_count": 21,
   "id": "af2cf677-fe01-4a0d-9116-862407937b62",
   "metadata": {},
   "outputs": [
    {
     "data": {
      "text/plain": [
       "TensorShape([1, 90, 1662])"
      ]
     },
     "execution_count": 21,
     "metadata": {},
     "output_type": "execute_result"
    }
   ],
   "source": [
    "tf.expand_dims(X_test[1], axis=0).shape"
   ]
  },
  {
   "cell_type": "code",
   "execution_count": 22,
   "id": "c5137c6e-5d78-49cc-9910-e7300d855f2e",
   "metadata": {},
   "outputs": [
    {
     "data": {
      "text/plain": [
       "array([6.2097854e-07, 5.3319083e-05, 8.5969263e-01, 7.8328736e-02,\n",
       "       4.4066528e-05, 4.7736247e-03, 1.1377297e-03, 5.5969223e-02],\n",
       "      dtype=float32)"
      ]
     },
     "execution_count": 22,
     "metadata": {},
     "output_type": "execute_result"
    }
   ],
   "source": [
    "y0_pred[0]"
   ]
  },
  {
   "cell_type": "code",
   "execution_count": null,
   "id": "a8265972-10e9-4c84-a3a5-9cf76df86dec",
   "metadata": {},
   "outputs": [],
   "source": []
  }
 ],
 "metadata": {
  "kernelspec": {
   "display_name": "Python [conda env:new-env]",
   "language": "python",
   "name": "conda-env-new-env-py"
  },
  "language_info": {
   "codemirror_mode": {
    "name": "ipython",
    "version": 3
   },
   "file_extension": ".py",
   "mimetype": "text/x-python",
   "name": "python",
   "nbconvert_exporter": "python",
   "pygments_lexer": "ipython3",
   "version": "3.10.6"
  }
 },
 "nbformat": 4,
 "nbformat_minor": 5
}
