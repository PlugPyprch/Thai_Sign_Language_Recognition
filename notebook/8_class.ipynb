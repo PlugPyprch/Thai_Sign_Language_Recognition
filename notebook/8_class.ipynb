{
 "cells": [
  {
   "cell_type": "code",
   "execution_count": 1,
   "id": "aeb75f19-aa2c-4ef5-9c24-148b75c88d30",
   "metadata": {},
   "outputs": [],
   "source": [
    "from sklearn.model_selection import train_test_split\n",
    "from tensorflow.keras.utils import to_categorical\n",
    "from sklearn.preprocessing import MinMaxScaler\n",
    "import numpy as np\n",
    "import os\n",
    "import tensorflow as tf\n",
    "import matplotlib.pyplot as plt"
   ]
  },
  {
   "cell_type": "code",
   "execution_count": 2,
   "id": "889d51c0-a8e2-463c-bf5a-7c0b9116e1e8",
   "metadata": {},
   "outputs": [],
   "source": [
    "actions = ['cold', 'dizziness', 'allergic_reaction', 'snot', 'unwell', 'hello', 'myself']\n",
    "actions = np.array(actions)"
   ]
  },
  {
   "cell_type": "code",
   "execution_count": 3,
   "id": "9e4268ab-b63c-460b-a515-225c3997b749",
   "metadata": {},
   "outputs": [],
   "source": [
    "label_map = {label:num for num, label in enumerate(actions)}"
   ]
  },
  {
   "cell_type": "code",
   "execution_count": 4,
   "id": "0667c7cf-3a6f-43e2-ae9a-09a573634f13",
   "metadata": {},
   "outputs": [
    {
     "data": {
      "text/plain": [
       "{'cold': 0,\n",
       " 'dizziness': 1,\n",
       " 'allergic_reaction': 2,\n",
       " 'snot': 3,\n",
       " 'unwell': 4,\n",
       " 'hello': 5,\n",
       " 'myself': 6}"
      ]
     },
     "execution_count": 4,
     "metadata": {},
     "output_type": "execute_result"
    }
   ],
   "source": [
    "label_map"
   ]
  },
  {
   "cell_type": "code",
   "execution_count": 5,
   "id": "a90088d0-d4cf-498b-adfa-05e31b7c15e2",
   "metadata": {},
   "outputs": [
    {
     "name": "stdout",
     "output_type": "stream",
     "text": [
      "200\n"
     ]
    }
   ],
   "source": [
    "print(len([name for name in os.listdir(os.path.join('keypoints', 'myself'))]))"
   ]
  },
  {
   "cell_type": "code",
   "execution_count": null,
   "id": "770c775c-76de-4cde-9147-0e2582daa69d",
   "metadata": {},
   "outputs": [],
   "source": [
    "sequences, labels = [], []\n",
    "for action in actions:\n",
    "    for sequence in range(200):\n",
    "        window = []\n",
    "        for frame_num in range(90):\n",
    "            res = np.load(os.path.join('keypoints', action, str(sequence+1), \"{}.npy\".format(frame_num)))\n",
    "            window.append(res)\n",
    "        sequences.append(window)\n",
    "        labels.append(label_map[action])"
   ]
  },
  {
   "cell_type": "code",
   "execution_count": 7,
   "id": "4402fa9a-c0b7-49c3-a204-ef8894352c87",
   "metadata": {},
   "outputs": [
    {
     "data": {
      "text/plain": [
       "(1400, 90, 1662)"
      ]
     },
     "execution_count": 7,
     "metadata": {},
     "output_type": "execute_result"
    }
   ],
   "source": [
    "np.array(sequences).shape"
   ]
  },
  {
   "cell_type": "code",
   "execution_count": 8,
   "id": "f872c999-793f-4b90-98e9-5fc41a3469a1",
   "metadata": {},
   "outputs": [
    {
     "data": {
      "text/plain": [
       "(1400,)"
      ]
     },
     "execution_count": 8,
     "metadata": {},
     "output_type": "execute_result"
    }
   ],
   "source": [
    "np.array(labels).shape"
   ]
  },
  {
   "cell_type": "code",
   "execution_count": 9,
   "id": "7111e471-ff41-4f3a-9c94-747988a6ffac",
   "metadata": {},
   "outputs": [],
   "source": [
    "X = np.array(sequences)"
   ]
  },
  {
   "cell_type": "code",
   "execution_count": 10,
   "id": "32556a5d-82b0-4ed5-8a4c-fed2c814070d",
   "metadata": {},
   "outputs": [
    {
     "data": {
      "text/plain": [
       "(1400, 90, 1662)"
      ]
     },
     "execution_count": 10,
     "metadata": {},
     "output_type": "execute_result"
    }
   ],
   "source": [
    "X.shape"
   ]
  },
  {
   "cell_type": "code",
   "execution_count": 11,
   "id": "6ec060a9-58fd-42f4-a46b-8e752212c59e",
   "metadata": {},
   "outputs": [],
   "source": [
    "y = to_categorical(labels).astype(int)"
   ]
  },
  {
   "cell_type": "code",
   "execution_count": 12,
   "id": "204e8339-affa-4ed5-9fa1-f7366259b66a",
   "metadata": {},
   "outputs": [
    {
     "data": {
      "text/plain": [
       "(1400, 7)"
      ]
     },
     "execution_count": 12,
     "metadata": {},
     "output_type": "execute_result"
    }
   ],
   "source": [
    "y.shape"
   ]
  },
  {
   "cell_type": "code",
   "execution_count": 13,
   "id": "0dbd3ee4-85f4-4dcc-bfc0-74675f950f9c",
   "metadata": {},
   "outputs": [],
   "source": [
    "scaler = MinMaxScaler(feature_range=(0,1))"
   ]
  },
  {
   "cell_type": "code",
   "execution_count": 14,
   "id": "37958989-3922-4986-839f-3ecb2980d35d",
   "metadata": {},
   "outputs": [],
   "source": [
    "X_scale = scaler.fit_transform(X.reshape(X.shape[0], -1)).reshape(X.shape)"
   ]
  },
  {
   "cell_type": "code",
   "execution_count": 15,
   "id": "21288fda-a97f-471a-a07c-73c4feea2e54",
   "metadata": {},
   "outputs": [],
   "source": [
    "X_train, X_test, y_train, y_test = train_test_split(X_scale, y, test_size=0.1)"
   ]
  },
  {
   "cell_type": "code",
   "execution_count": 16,
   "id": "49b9010a-b21a-4608-99a3-e143965c1f8b",
   "metadata": {},
   "outputs": [
    {
     "data": {
      "text/plain": [
       "(140, 90, 1662)"
      ]
     },
     "execution_count": 16,
     "metadata": {},
     "output_type": "execute_result"
    }
   ],
   "source": [
    "X_test.shape"
   ]
  },
  {
   "cell_type": "code",
   "execution_count": 17,
   "id": "83e29c98-be83-482e-9023-8676f638b7ff",
   "metadata": {},
   "outputs": [
    {
     "data": {
      "text/plain": [
       "(140, 7)"
      ]
     },
     "execution_count": 17,
     "metadata": {},
     "output_type": "execute_result"
    }
   ],
   "source": [
    "y_test.shape"
   ]
  },
  {
   "cell_type": "code",
   "execution_count": 18,
   "id": "8b51d9e6-cb82-482b-ac25-ce68674138d3",
   "metadata": {},
   "outputs": [
    {
     "data": {
      "text/plain": [
       "array([[0.36495837, 0.29019354, 0.81895418, ..., 0.        , 0.        ,\n",
       "        1.        ],\n",
       "       [0.36720146, 0.32394109, 0.64552467, ..., 0.        , 0.        ,\n",
       "        0.67659821],\n",
       "       [0.38706097, 0.32780803, 0.65675001, ..., 0.        , 0.        ,\n",
       "        0.70799421],\n",
       "       ...,\n",
       "       [0.42953668, 0.25687016, 0.58955714, ..., 0.        , 0.        ,\n",
       "        0.80509824],\n",
       "       [0.42967711, 0.26029506, 0.57069494, ..., 0.        , 0.        ,\n",
       "        0.78743969],\n",
       "       [0.43156453, 0.28308273, 0.5330333 , ..., 0.        , 0.        ,\n",
       "        0.74763913]])"
      ]
     },
     "execution_count": 18,
     "metadata": {},
     "output_type": "execute_result"
    }
   ],
   "source": [
    "X_train[0]"
   ]
  },
  {
   "cell_type": "code",
   "execution_count": 24,
   "id": "a3d2a0af-1193-4640-b585-e2df1eec1ffd",
   "metadata": {},
   "outputs": [],
   "source": [
    "from tensorflow.keras.models import Sequential\n",
    "from tensorflow.keras.layers import LSTM, Dense\n",
    "from tensorflow.keras.callbacks import TensorBoard"
   ]
  },
  {
   "cell_type": "code",
   "execution_count": 25,
   "id": "65da861a-2c28-42a6-a587-926a5b463c24",
   "metadata": {},
   "outputs": [],
   "source": [
    "log_dir = os.path.join('Logs')\n",
    "tb_callback = TensorBoard(log_dir=log_dir)"
   ]
  },
  {
   "cell_type": "code",
   "execution_count": 26,
   "id": "e4552516-dcb9-472f-9128-3876b6a3da56",
   "metadata": {},
   "outputs": [],
   "source": [
    "model = Sequential()\n",
    "model.add(LSTM(64, return_sequences=False, activation='relu', input_shape=(90, 1662)))\n",
    "model.add(Dense(64, activation='relu'))\n",
    "model.add(Dense(actions.shape[0], activation='softmax'))"
   ]
  },
  {
   "cell_type": "code",
   "execution_count": 27,
   "id": "485dbb61-7177-44d3-b216-fb4398fe95a1",
   "metadata": {},
   "outputs": [],
   "source": [
    "model.compile(optimizer=tf.keras.optimizers.Adam(learning_rate=0.0001) , loss='categorical_crossentropy', metrics='categorical_accuracy')"
   ]
  },
  {
   "cell_type": "code",
   "execution_count": 28,
   "id": "98b329e1-aa6a-4767-a7f2-093f8720823e",
   "metadata": {
    "collapsed": true,
    "jupyter": {
     "outputs_hidden": true
    },
    "tags": []
   },
   "outputs": [
    {
     "name": "stdout",
     "output_type": "stream",
     "text": [
      "Epoch 1/100\n",
      "36/36 [==============================] - 4s 85ms/step - loss: 2.5143 - categorical_accuracy: 0.1711 - val_loss: 2.0146 - val_categorical_accuracy: 0.1667\n",
      "Epoch 2/100\n",
      "36/36 [==============================] - 3s 76ms/step - loss: 1.9919 - categorical_accuracy: 0.2125 - val_loss: 1.9517 - val_categorical_accuracy: 0.1984\n",
      "Epoch 3/100\n",
      "36/36 [==============================] - 3s 76ms/step - loss: 1.9225 - categorical_accuracy: 0.2628 - val_loss: 1.9140 - val_categorical_accuracy: 0.2222\n",
      "Epoch 4/100\n",
      "36/36 [==============================] - 3s 77ms/step - loss: 1.8543 - categorical_accuracy: 0.2734 - val_loss: 1.8523 - val_categorical_accuracy: 0.2460\n",
      "Epoch 5/100\n",
      "36/36 [==============================] - 3s 76ms/step - loss: 1.8143 - categorical_accuracy: 0.2884 - val_loss: 1.8295 - val_categorical_accuracy: 0.2619\n",
      "Epoch 6/100\n",
      "36/36 [==============================] - 3s 78ms/step - loss: 1.7738 - categorical_accuracy: 0.3263 - val_loss: 1.8082 - val_categorical_accuracy: 0.2381\n",
      "Epoch 7/100\n",
      "36/36 [==============================] - 3s 77ms/step - loss: 1.7408 - categorical_accuracy: 0.3580 - val_loss: 1.8023 - val_categorical_accuracy: 0.3889\n",
      "Epoch 8/100\n",
      "36/36 [==============================] - 3s 77ms/step - loss: 1.7206 - categorical_accuracy: 0.4153 - val_loss: 1.7504 - val_categorical_accuracy: 0.4048\n",
      "Epoch 9/100\n",
      "36/36 [==============================] - 3s 74ms/step - loss: 1.6809 - categorical_accuracy: 0.4286 - val_loss: 1.6666 - val_categorical_accuracy: 0.4048\n",
      "Epoch 10/100\n",
      "36/36 [==============================] - 3s 74ms/step - loss: 1.6041 - categorical_accuracy: 0.4533 - val_loss: 1.6186 - val_categorical_accuracy: 0.4762\n",
      "Epoch 11/100\n",
      "36/36 [==============================] - 3s 76ms/step - loss: 1.5341 - categorical_accuracy: 0.4815 - val_loss: 1.5082 - val_categorical_accuracy: 0.5079\n",
      "Epoch 12/100\n",
      "36/36 [==============================] - 3s 75ms/step - loss: 1.4561 - categorical_accuracy: 0.5071 - val_loss: 1.4284 - val_categorical_accuracy: 0.5794\n",
      "Epoch 13/100\n",
      "36/36 [==============================] - 3s 74ms/step - loss: 1.3715 - categorical_accuracy: 0.5432 - val_loss: 1.3319 - val_categorical_accuracy: 0.5714\n",
      "Epoch 14/100\n",
      "36/36 [==============================] - 3s 77ms/step - loss: 1.2609 - categorical_accuracy: 0.5785 - val_loss: 1.2695 - val_categorical_accuracy: 0.5794\n",
      "Epoch 15/100\n",
      "36/36 [==============================] - 2s 63ms/step - loss: 1.2836 - categorical_accuracy: 0.5644 - val_loss: 1.3376 - val_categorical_accuracy: 0.4762\n",
      "Epoch 16/100\n",
      "36/36 [==============================] - 2s 64ms/step - loss: 1.2834 - categorical_accuracy: 0.5220 - val_loss: 1.2500 - val_categorical_accuracy: 0.5714\n",
      "Epoch 17/100\n",
      "36/36 [==============================] - 2s 66ms/step - loss: 1.1714 - categorical_accuracy: 0.5847 - val_loss: 1.0863 - val_categorical_accuracy: 0.6349\n",
      "Epoch 18/100\n",
      "36/36 [==============================] - 2s 65ms/step - loss: 1.1104 - categorical_accuracy: 0.6367 - val_loss: 0.9876 - val_categorical_accuracy: 0.6905\n",
      "Epoch 19/100\n",
      "36/36 [==============================] - 2s 66ms/step - loss: 0.8725 - categorical_accuracy: 0.7328 - val_loss: 0.7885 - val_categorical_accuracy: 0.7857\n",
      "Epoch 20/100\n",
      "36/36 [==============================] - 2s 66ms/step - loss: 0.7873 - categorical_accuracy: 0.7522 - val_loss: 0.7678 - val_categorical_accuracy: 0.7460\n",
      "Epoch 21/100\n",
      "36/36 [==============================] - 2s 66ms/step - loss: 0.7219 - categorical_accuracy: 0.7663 - val_loss: 0.8100 - val_categorical_accuracy: 0.7302\n",
      "Epoch 22/100\n",
      "36/36 [==============================] - 3s 76ms/step - loss: 0.7099 - categorical_accuracy: 0.7690 - val_loss: 0.5885 - val_categorical_accuracy: 0.8413\n",
      "Epoch 23/100\n",
      "36/36 [==============================] - 3s 76ms/step - loss: 0.7283 - categorical_accuracy: 0.7337 - val_loss: 0.5634 - val_categorical_accuracy: 0.8254\n",
      "Epoch 24/100\n",
      "36/36 [==============================] - 3s 75ms/step - loss: 0.6236 - categorical_accuracy: 0.7822 - val_loss: 0.6452 - val_categorical_accuracy: 0.8175\n",
      "Epoch 25/100\n",
      "36/36 [==============================] - 3s 76ms/step - loss: 0.6509 - categorical_accuracy: 0.7734 - val_loss: 0.7158 - val_categorical_accuracy: 0.7937\n",
      "Epoch 26/100\n",
      "36/36 [==============================] - 3s 74ms/step - loss: 0.5882 - categorical_accuracy: 0.8122 - val_loss: 0.5470 - val_categorical_accuracy: 0.8016\n",
      "Epoch 27/100\n",
      "36/36 [==============================] - 3s 75ms/step - loss: 0.5116 - categorical_accuracy: 0.8325 - val_loss: 0.4887 - val_categorical_accuracy: 0.8254\n",
      "Epoch 28/100\n",
      "36/36 [==============================] - 3s 73ms/step - loss: 0.4556 - categorical_accuracy: 0.8404 - val_loss: 0.3871 - val_categorical_accuracy: 0.8651\n",
      "Epoch 29/100\n",
      "36/36 [==============================] - 2s 65ms/step - loss: 0.4020 - categorical_accuracy: 0.8598 - val_loss: 0.4307 - val_categorical_accuracy: 0.8333\n",
      "Epoch 30/100\n",
      "36/36 [==============================] - 2s 63ms/step - loss: 0.3983 - categorical_accuracy: 0.8616 - val_loss: 0.3523 - val_categorical_accuracy: 0.8810\n",
      "Epoch 31/100\n",
      "36/36 [==============================] - 2s 63ms/step - loss: 0.3835 - categorical_accuracy: 0.8677 - val_loss: 0.5099 - val_categorical_accuracy: 0.8413\n",
      "Epoch 32/100\n",
      "36/36 [==============================] - 2s 67ms/step - loss: 0.4515 - categorical_accuracy: 0.8483 - val_loss: 0.3629 - val_categorical_accuracy: 0.8810\n",
      "Epoch 33/100\n",
      "36/36 [==============================] - 2s 68ms/step - loss: 1.0216 - categorical_accuracy: 0.6781 - val_loss: 0.5522 - val_categorical_accuracy: 0.8571\n",
      "Epoch 34/100\n",
      "36/36 [==============================] - 2s 69ms/step - loss: 0.4663 - categorical_accuracy: 0.8333 - val_loss: 0.3646 - val_categorical_accuracy: 0.9048\n",
      "Epoch 35/100\n",
      "36/36 [==============================] - 2s 69ms/step - loss: 0.4266 - categorical_accuracy: 0.8386 - val_loss: 0.3293 - val_categorical_accuracy: 0.8889\n",
      "Epoch 36/100\n",
      "36/36 [==============================] - 2s 68ms/step - loss: 0.3556 - categorical_accuracy: 0.8765 - val_loss: 0.3005 - val_categorical_accuracy: 0.8889\n",
      "Epoch 37/100\n",
      "36/36 [==============================] - 2s 68ms/step - loss: 0.3037 - categorical_accuracy: 0.8959 - val_loss: 0.3900 - val_categorical_accuracy: 0.8889\n",
      "Epoch 38/100\n",
      "36/36 [==============================] - 2s 68ms/step - loss: 0.2629 - categorical_accuracy: 0.9101 - val_loss: 0.3149 - val_categorical_accuracy: 0.8889\n",
      "Epoch 39/100\n",
      "36/36 [==============================] - 2s 68ms/step - loss: 0.3298 - categorical_accuracy: 0.8748 - val_loss: 0.2656 - val_categorical_accuracy: 0.9365\n",
      "Epoch 40/100\n",
      "36/36 [==============================] - 3s 71ms/step - loss: 0.2375 - categorical_accuracy: 0.9198 - val_loss: 0.3340 - val_categorical_accuracy: 0.9286\n",
      "Epoch 41/100\n",
      "36/36 [==============================] - 3s 76ms/step - loss: 0.2647 - categorical_accuracy: 0.9189 - val_loss: 0.3209 - val_categorical_accuracy: 0.9286\n",
      "Epoch 42/100\n",
      "36/36 [==============================] - 3s 72ms/step - loss: 0.2705 - categorical_accuracy: 0.9127 - val_loss: 0.2722 - val_categorical_accuracy: 0.9206\n",
      "Epoch 43/100\n",
      "36/36 [==============================] - 3s 75ms/step - loss: 0.3157 - categorical_accuracy: 0.8862 - val_loss: 0.2584 - val_categorical_accuracy: 0.9048\n",
      "Epoch 44/100\n",
      "36/36 [==============================] - 3s 80ms/step - loss: 0.2468 - categorical_accuracy: 0.9092 - val_loss: 0.2293 - val_categorical_accuracy: 0.9127\n",
      "Epoch 45/100\n",
      "36/36 [==============================] - 3s 79ms/step - loss: 0.1934 - categorical_accuracy: 0.9409 - val_loss: 0.2757 - val_categorical_accuracy: 0.9286\n",
      "Epoch 46/100\n",
      "36/36 [==============================] - 2s 69ms/step - loss: 0.2383 - categorical_accuracy: 0.9118 - val_loss: 0.4106 - val_categorical_accuracy: 0.8810\n",
      "Epoch 47/100\n",
      "36/36 [==============================] - 2s 69ms/step - loss: 0.2248 - categorical_accuracy: 0.9242 - val_loss: 0.2656 - val_categorical_accuracy: 0.9048\n",
      "Epoch 48/100\n",
      "36/36 [==============================] - 2s 68ms/step - loss: 0.1758 - categorical_accuracy: 0.9400 - val_loss: 0.2144 - val_categorical_accuracy: 0.9524\n",
      "Epoch 49/100\n",
      "36/36 [==============================] - 2s 66ms/step - loss: 0.1939 - categorical_accuracy: 0.9330 - val_loss: 0.2687 - val_categorical_accuracy: 0.9286\n",
      "Epoch 50/100\n",
      "36/36 [==============================] - 2s 67ms/step - loss: 0.1751 - categorical_accuracy: 0.9321 - val_loss: 0.2264 - val_categorical_accuracy: 0.9365\n",
      "Epoch 51/100\n",
      " 4/36 [==>...........................] - ETA: 2s - loss: 0.1312 - categorical_accuracy: 0.9531"
     ]
    },
    {
     "ename": "KeyboardInterrupt",
     "evalue": "",
     "output_type": "error",
     "traceback": [
      "\u001b[0;31m---------------------------------------------------------------------------\u001b[0m",
      "\u001b[0;31mKeyboardInterrupt\u001b[0m                         Traceback (most recent call last)",
      "Input \u001b[0;32mIn [28]\u001b[0m, in \u001b[0;36m<cell line: 1>\u001b[0;34m()\u001b[0m\n\u001b[0;32m----> 1\u001b[0m history \u001b[38;5;241m=\u001b[39m \u001b[43mmodel\u001b[49m\u001b[38;5;241;43m.\u001b[39;49m\u001b[43mfit\u001b[49m\u001b[43m(\u001b[49m\u001b[43mX_train\u001b[49m\u001b[43m,\u001b[49m\u001b[43m \u001b[49m\u001b[43my_train\u001b[49m\u001b[43m,\u001b[49m\u001b[43m \u001b[49m\u001b[43mepochs\u001b[49m\u001b[38;5;241;43m=\u001b[39;49m\u001b[38;5;241;43m100\u001b[39;49m\u001b[43m,\u001b[49m\u001b[43m \u001b[49m\u001b[43mvalidation_split\u001b[49m\u001b[38;5;241;43m=\u001b[39;49m\u001b[38;5;241;43m0.1\u001b[39;49m\u001b[43m)\u001b[49m\n",
      "File \u001b[0;32m~/opt/anaconda3/envs/new-env/lib/python3.10/site-packages/keras/utils/traceback_utils.py:65\u001b[0m, in \u001b[0;36mfilter_traceback.<locals>.error_handler\u001b[0;34m(*args, **kwargs)\u001b[0m\n\u001b[1;32m     63\u001b[0m filtered_tb \u001b[38;5;241m=\u001b[39m \u001b[38;5;28;01mNone\u001b[39;00m\n\u001b[1;32m     64\u001b[0m \u001b[38;5;28;01mtry\u001b[39;00m:\n\u001b[0;32m---> 65\u001b[0m     \u001b[38;5;28;01mreturn\u001b[39;00m \u001b[43mfn\u001b[49m\u001b[43m(\u001b[49m\u001b[38;5;241;43m*\u001b[39;49m\u001b[43margs\u001b[49m\u001b[43m,\u001b[49m\u001b[43m \u001b[49m\u001b[38;5;241;43m*\u001b[39;49m\u001b[38;5;241;43m*\u001b[39;49m\u001b[43mkwargs\u001b[49m\u001b[43m)\u001b[49m\n\u001b[1;32m     66\u001b[0m \u001b[38;5;28;01mexcept\u001b[39;00m \u001b[38;5;167;01mException\u001b[39;00m \u001b[38;5;28;01mas\u001b[39;00m e:\n\u001b[1;32m     67\u001b[0m     filtered_tb \u001b[38;5;241m=\u001b[39m _process_traceback_frames(e\u001b[38;5;241m.\u001b[39m__traceback__)\n",
      "File \u001b[0;32m~/opt/anaconda3/envs/new-env/lib/python3.10/site-packages/keras/engine/training.py:1564\u001b[0m, in \u001b[0;36mModel.fit\u001b[0;34m(self, x, y, batch_size, epochs, verbose, callbacks, validation_split, validation_data, shuffle, class_weight, sample_weight, initial_epoch, steps_per_epoch, validation_steps, validation_batch_size, validation_freq, max_queue_size, workers, use_multiprocessing)\u001b[0m\n\u001b[1;32m   1556\u001b[0m \u001b[38;5;28;01mwith\u001b[39;00m tf\u001b[38;5;241m.\u001b[39mprofiler\u001b[38;5;241m.\u001b[39mexperimental\u001b[38;5;241m.\u001b[39mTrace(\n\u001b[1;32m   1557\u001b[0m     \u001b[38;5;124m\"\u001b[39m\u001b[38;5;124mtrain\u001b[39m\u001b[38;5;124m\"\u001b[39m,\n\u001b[1;32m   1558\u001b[0m     epoch_num\u001b[38;5;241m=\u001b[39mepoch,\n\u001b[0;32m   (...)\u001b[0m\n\u001b[1;32m   1561\u001b[0m     _r\u001b[38;5;241m=\u001b[39m\u001b[38;5;241m1\u001b[39m,\n\u001b[1;32m   1562\u001b[0m ):\n\u001b[1;32m   1563\u001b[0m     callbacks\u001b[38;5;241m.\u001b[39mon_train_batch_begin(step)\n\u001b[0;32m-> 1564\u001b[0m     tmp_logs \u001b[38;5;241m=\u001b[39m \u001b[38;5;28;43mself\u001b[39;49m\u001b[38;5;241;43m.\u001b[39;49m\u001b[43mtrain_function\u001b[49m\u001b[43m(\u001b[49m\u001b[43miterator\u001b[49m\u001b[43m)\u001b[49m\n\u001b[1;32m   1565\u001b[0m     \u001b[38;5;28;01mif\u001b[39;00m data_handler\u001b[38;5;241m.\u001b[39mshould_sync:\n\u001b[1;32m   1566\u001b[0m         context\u001b[38;5;241m.\u001b[39masync_wait()\n",
      "File \u001b[0;32m~/opt/anaconda3/envs/new-env/lib/python3.10/site-packages/tensorflow/python/util/traceback_utils.py:150\u001b[0m, in \u001b[0;36mfilter_traceback.<locals>.error_handler\u001b[0;34m(*args, **kwargs)\u001b[0m\n\u001b[1;32m    148\u001b[0m filtered_tb \u001b[38;5;241m=\u001b[39m \u001b[38;5;28;01mNone\u001b[39;00m\n\u001b[1;32m    149\u001b[0m \u001b[38;5;28;01mtry\u001b[39;00m:\n\u001b[0;32m--> 150\u001b[0m   \u001b[38;5;28;01mreturn\u001b[39;00m \u001b[43mfn\u001b[49m\u001b[43m(\u001b[49m\u001b[38;5;241;43m*\u001b[39;49m\u001b[43margs\u001b[49m\u001b[43m,\u001b[49m\u001b[43m \u001b[49m\u001b[38;5;241;43m*\u001b[39;49m\u001b[38;5;241;43m*\u001b[39;49m\u001b[43mkwargs\u001b[49m\u001b[43m)\u001b[49m\n\u001b[1;32m    151\u001b[0m \u001b[38;5;28;01mexcept\u001b[39;00m \u001b[38;5;167;01mException\u001b[39;00m \u001b[38;5;28;01mas\u001b[39;00m e:\n\u001b[1;32m    152\u001b[0m   filtered_tb \u001b[38;5;241m=\u001b[39m _process_traceback_frames(e\u001b[38;5;241m.\u001b[39m__traceback__)\n",
      "File \u001b[0;32m~/opt/anaconda3/envs/new-env/lib/python3.10/site-packages/tensorflow/python/eager/def_function.py:915\u001b[0m, in \u001b[0;36mFunction.__call__\u001b[0;34m(self, *args, **kwds)\u001b[0m\n\u001b[1;32m    912\u001b[0m compiler \u001b[38;5;241m=\u001b[39m \u001b[38;5;124m\"\u001b[39m\u001b[38;5;124mxla\u001b[39m\u001b[38;5;124m\"\u001b[39m \u001b[38;5;28;01mif\u001b[39;00m \u001b[38;5;28mself\u001b[39m\u001b[38;5;241m.\u001b[39m_jit_compile \u001b[38;5;28;01melse\u001b[39;00m \u001b[38;5;124m\"\u001b[39m\u001b[38;5;124mnonXla\u001b[39m\u001b[38;5;124m\"\u001b[39m\n\u001b[1;32m    914\u001b[0m \u001b[38;5;28;01mwith\u001b[39;00m OptionalXlaContext(\u001b[38;5;28mself\u001b[39m\u001b[38;5;241m.\u001b[39m_jit_compile):\n\u001b[0;32m--> 915\u001b[0m   result \u001b[38;5;241m=\u001b[39m \u001b[38;5;28;43mself\u001b[39;49m\u001b[38;5;241;43m.\u001b[39;49m\u001b[43m_call\u001b[49m\u001b[43m(\u001b[49m\u001b[38;5;241;43m*\u001b[39;49m\u001b[43margs\u001b[49m\u001b[43m,\u001b[49m\u001b[43m \u001b[49m\u001b[38;5;241;43m*\u001b[39;49m\u001b[38;5;241;43m*\u001b[39;49m\u001b[43mkwds\u001b[49m\u001b[43m)\u001b[49m\n\u001b[1;32m    917\u001b[0m new_tracing_count \u001b[38;5;241m=\u001b[39m \u001b[38;5;28mself\u001b[39m\u001b[38;5;241m.\u001b[39mexperimental_get_tracing_count()\n\u001b[1;32m    918\u001b[0m without_tracing \u001b[38;5;241m=\u001b[39m (tracing_count \u001b[38;5;241m==\u001b[39m new_tracing_count)\n",
      "File \u001b[0;32m~/opt/anaconda3/envs/new-env/lib/python3.10/site-packages/tensorflow/python/eager/def_function.py:947\u001b[0m, in \u001b[0;36mFunction._call\u001b[0;34m(self, *args, **kwds)\u001b[0m\n\u001b[1;32m    944\u001b[0m   \u001b[38;5;28mself\u001b[39m\u001b[38;5;241m.\u001b[39m_lock\u001b[38;5;241m.\u001b[39mrelease()\n\u001b[1;32m    945\u001b[0m   \u001b[38;5;66;03m# In this case we have created variables on the first call, so we run the\u001b[39;00m\n\u001b[1;32m    946\u001b[0m   \u001b[38;5;66;03m# defunned version which is guaranteed to never create variables.\u001b[39;00m\n\u001b[0;32m--> 947\u001b[0m   \u001b[38;5;28;01mreturn\u001b[39;00m \u001b[38;5;28;43mself\u001b[39;49m\u001b[38;5;241;43m.\u001b[39;49m\u001b[43m_stateless_fn\u001b[49m\u001b[43m(\u001b[49m\u001b[38;5;241;43m*\u001b[39;49m\u001b[43margs\u001b[49m\u001b[43m,\u001b[49m\u001b[43m \u001b[49m\u001b[38;5;241;43m*\u001b[39;49m\u001b[38;5;241;43m*\u001b[39;49m\u001b[43mkwds\u001b[49m\u001b[43m)\u001b[49m  \u001b[38;5;66;03m# pylint: disable=not-callable\u001b[39;00m\n\u001b[1;32m    948\u001b[0m \u001b[38;5;28;01melif\u001b[39;00m \u001b[38;5;28mself\u001b[39m\u001b[38;5;241m.\u001b[39m_stateful_fn \u001b[38;5;129;01mis\u001b[39;00m \u001b[38;5;129;01mnot\u001b[39;00m \u001b[38;5;28;01mNone\u001b[39;00m:\n\u001b[1;32m    949\u001b[0m   \u001b[38;5;66;03m# Release the lock early so that multiple threads can perform the call\u001b[39;00m\n\u001b[1;32m    950\u001b[0m   \u001b[38;5;66;03m# in parallel.\u001b[39;00m\n\u001b[1;32m    951\u001b[0m   \u001b[38;5;28mself\u001b[39m\u001b[38;5;241m.\u001b[39m_lock\u001b[38;5;241m.\u001b[39mrelease()\n",
      "File \u001b[0;32m~/opt/anaconda3/envs/new-env/lib/python3.10/site-packages/tensorflow/python/eager/function.py:2496\u001b[0m, in \u001b[0;36mFunction.__call__\u001b[0;34m(self, *args, **kwargs)\u001b[0m\n\u001b[1;32m   2493\u001b[0m \u001b[38;5;28;01mwith\u001b[39;00m \u001b[38;5;28mself\u001b[39m\u001b[38;5;241m.\u001b[39m_lock:\n\u001b[1;32m   2494\u001b[0m   (graph_function,\n\u001b[1;32m   2495\u001b[0m    filtered_flat_args) \u001b[38;5;241m=\u001b[39m \u001b[38;5;28mself\u001b[39m\u001b[38;5;241m.\u001b[39m_maybe_define_function(args, kwargs)\n\u001b[0;32m-> 2496\u001b[0m \u001b[38;5;28;01mreturn\u001b[39;00m \u001b[43mgraph_function\u001b[49m\u001b[38;5;241;43m.\u001b[39;49m\u001b[43m_call_flat\u001b[49m\u001b[43m(\u001b[49m\n\u001b[1;32m   2497\u001b[0m \u001b[43m    \u001b[49m\u001b[43mfiltered_flat_args\u001b[49m\u001b[43m,\u001b[49m\u001b[43m \u001b[49m\u001b[43mcaptured_inputs\u001b[49m\u001b[38;5;241;43m=\u001b[39;49m\u001b[43mgraph_function\u001b[49m\u001b[38;5;241;43m.\u001b[39;49m\u001b[43mcaptured_inputs\u001b[49m\u001b[43m)\u001b[49m\n",
      "File \u001b[0;32m~/opt/anaconda3/envs/new-env/lib/python3.10/site-packages/tensorflow/python/eager/function.py:1862\u001b[0m, in \u001b[0;36mConcreteFunction._call_flat\u001b[0;34m(self, args, captured_inputs, cancellation_manager)\u001b[0m\n\u001b[1;32m   1858\u001b[0m possible_gradient_type \u001b[38;5;241m=\u001b[39m gradients_util\u001b[38;5;241m.\u001b[39mPossibleTapeGradientTypes(args)\n\u001b[1;32m   1859\u001b[0m \u001b[38;5;28;01mif\u001b[39;00m (possible_gradient_type \u001b[38;5;241m==\u001b[39m gradients_util\u001b[38;5;241m.\u001b[39mPOSSIBLE_GRADIENT_TYPES_NONE\n\u001b[1;32m   1860\u001b[0m     \u001b[38;5;129;01mand\u001b[39;00m executing_eagerly):\n\u001b[1;32m   1861\u001b[0m   \u001b[38;5;66;03m# No tape is watching; skip to running the function.\u001b[39;00m\n\u001b[0;32m-> 1862\u001b[0m   \u001b[38;5;28;01mreturn\u001b[39;00m \u001b[38;5;28mself\u001b[39m\u001b[38;5;241m.\u001b[39m_build_call_outputs(\u001b[38;5;28;43mself\u001b[39;49m\u001b[38;5;241;43m.\u001b[39;49m\u001b[43m_inference_function\u001b[49m\u001b[38;5;241;43m.\u001b[39;49m\u001b[43mcall\u001b[49m\u001b[43m(\u001b[49m\n\u001b[1;32m   1863\u001b[0m \u001b[43m      \u001b[49m\u001b[43mctx\u001b[49m\u001b[43m,\u001b[49m\u001b[43m \u001b[49m\u001b[43margs\u001b[49m\u001b[43m,\u001b[49m\u001b[43m \u001b[49m\u001b[43mcancellation_manager\u001b[49m\u001b[38;5;241;43m=\u001b[39;49m\u001b[43mcancellation_manager\u001b[49m\u001b[43m)\u001b[49m)\n\u001b[1;32m   1864\u001b[0m forward_backward \u001b[38;5;241m=\u001b[39m \u001b[38;5;28mself\u001b[39m\u001b[38;5;241m.\u001b[39m_select_forward_and_backward_functions(\n\u001b[1;32m   1865\u001b[0m     args,\n\u001b[1;32m   1866\u001b[0m     possible_gradient_type,\n\u001b[1;32m   1867\u001b[0m     executing_eagerly)\n\u001b[1;32m   1868\u001b[0m forward_function, args_with_tangents \u001b[38;5;241m=\u001b[39m forward_backward\u001b[38;5;241m.\u001b[39mforward()\n",
      "File \u001b[0;32m~/opt/anaconda3/envs/new-env/lib/python3.10/site-packages/tensorflow/python/eager/function.py:499\u001b[0m, in \u001b[0;36m_EagerDefinedFunction.call\u001b[0;34m(self, ctx, args, cancellation_manager)\u001b[0m\n\u001b[1;32m    497\u001b[0m \u001b[38;5;28;01mwith\u001b[39;00m _InterpolateFunctionError(\u001b[38;5;28mself\u001b[39m):\n\u001b[1;32m    498\u001b[0m   \u001b[38;5;28;01mif\u001b[39;00m cancellation_manager \u001b[38;5;129;01mis\u001b[39;00m \u001b[38;5;28;01mNone\u001b[39;00m:\n\u001b[0;32m--> 499\u001b[0m     outputs \u001b[38;5;241m=\u001b[39m \u001b[43mexecute\u001b[49m\u001b[38;5;241;43m.\u001b[39;49m\u001b[43mexecute\u001b[49m\u001b[43m(\u001b[49m\n\u001b[1;32m    500\u001b[0m \u001b[43m        \u001b[49m\u001b[38;5;28;43mstr\u001b[39;49m\u001b[43m(\u001b[49m\u001b[38;5;28;43mself\u001b[39;49m\u001b[38;5;241;43m.\u001b[39;49m\u001b[43msignature\u001b[49m\u001b[38;5;241;43m.\u001b[39;49m\u001b[43mname\u001b[49m\u001b[43m)\u001b[49m\u001b[43m,\u001b[49m\n\u001b[1;32m    501\u001b[0m \u001b[43m        \u001b[49m\u001b[43mnum_outputs\u001b[49m\u001b[38;5;241;43m=\u001b[39;49m\u001b[38;5;28;43mself\u001b[39;49m\u001b[38;5;241;43m.\u001b[39;49m\u001b[43m_num_outputs\u001b[49m\u001b[43m,\u001b[49m\n\u001b[1;32m    502\u001b[0m \u001b[43m        \u001b[49m\u001b[43minputs\u001b[49m\u001b[38;5;241;43m=\u001b[39;49m\u001b[43margs\u001b[49m\u001b[43m,\u001b[49m\n\u001b[1;32m    503\u001b[0m \u001b[43m        \u001b[49m\u001b[43mattrs\u001b[49m\u001b[38;5;241;43m=\u001b[39;49m\u001b[43mattrs\u001b[49m\u001b[43m,\u001b[49m\n\u001b[1;32m    504\u001b[0m \u001b[43m        \u001b[49m\u001b[43mctx\u001b[49m\u001b[38;5;241;43m=\u001b[39;49m\u001b[43mctx\u001b[49m\u001b[43m)\u001b[49m\n\u001b[1;32m    505\u001b[0m   \u001b[38;5;28;01melse\u001b[39;00m:\n\u001b[1;32m    506\u001b[0m     outputs \u001b[38;5;241m=\u001b[39m execute\u001b[38;5;241m.\u001b[39mexecute_with_cancellation(\n\u001b[1;32m    507\u001b[0m         \u001b[38;5;28mstr\u001b[39m(\u001b[38;5;28mself\u001b[39m\u001b[38;5;241m.\u001b[39msignature\u001b[38;5;241m.\u001b[39mname),\n\u001b[1;32m    508\u001b[0m         num_outputs\u001b[38;5;241m=\u001b[39m\u001b[38;5;28mself\u001b[39m\u001b[38;5;241m.\u001b[39m_num_outputs,\n\u001b[0;32m   (...)\u001b[0m\n\u001b[1;32m    511\u001b[0m         ctx\u001b[38;5;241m=\u001b[39mctx,\n\u001b[1;32m    512\u001b[0m         cancellation_manager\u001b[38;5;241m=\u001b[39mcancellation_manager)\n",
      "File \u001b[0;32m~/opt/anaconda3/envs/new-env/lib/python3.10/site-packages/tensorflow/python/eager/execute.py:54\u001b[0m, in \u001b[0;36mquick_execute\u001b[0;34m(op_name, num_outputs, inputs, attrs, ctx, name)\u001b[0m\n\u001b[1;32m     52\u001b[0m \u001b[38;5;28;01mtry\u001b[39;00m:\n\u001b[1;32m     53\u001b[0m   ctx\u001b[38;5;241m.\u001b[39mensure_initialized()\n\u001b[0;32m---> 54\u001b[0m   tensors \u001b[38;5;241m=\u001b[39m \u001b[43mpywrap_tfe\u001b[49m\u001b[38;5;241;43m.\u001b[39;49m\u001b[43mTFE_Py_Execute\u001b[49m\u001b[43m(\u001b[49m\u001b[43mctx\u001b[49m\u001b[38;5;241;43m.\u001b[39;49m\u001b[43m_handle\u001b[49m\u001b[43m,\u001b[49m\u001b[43m \u001b[49m\u001b[43mdevice_name\u001b[49m\u001b[43m,\u001b[49m\u001b[43m \u001b[49m\u001b[43mop_name\u001b[49m\u001b[43m,\u001b[49m\n\u001b[1;32m     55\u001b[0m \u001b[43m                                      \u001b[49m\u001b[43minputs\u001b[49m\u001b[43m,\u001b[49m\u001b[43m \u001b[49m\u001b[43mattrs\u001b[49m\u001b[43m,\u001b[49m\u001b[43m \u001b[49m\u001b[43mnum_outputs\u001b[49m\u001b[43m)\u001b[49m\n\u001b[1;32m     56\u001b[0m \u001b[38;5;28;01mexcept\u001b[39;00m core\u001b[38;5;241m.\u001b[39m_NotOkStatusException \u001b[38;5;28;01mas\u001b[39;00m e:\n\u001b[1;32m     57\u001b[0m   \u001b[38;5;28;01mif\u001b[39;00m name \u001b[38;5;129;01mis\u001b[39;00m \u001b[38;5;129;01mnot\u001b[39;00m \u001b[38;5;28;01mNone\u001b[39;00m:\n",
      "\u001b[0;31mKeyboardInterrupt\u001b[0m: "
     ]
    }
   ],
   "source": [
    "history = model.fit(X_train, y_train, epochs=100, validation_split=0.1)"
   ]
  },
  {
   "cell_type": "code",
   "execution_count": 31,
   "id": "ae0288bd-59c2-4948-bb73-dd4b713ea91f",
   "metadata": {},
   "outputs": [
    {
     "name": "stdout",
     "output_type": "stream",
     "text": [
      "5/5 [==============================] - 0s 16ms/step - loss: 0.1712 - categorical_accuracy: 0.9500\n"
     ]
    },
    {
     "data": {
      "text/plain": [
       "[0.17117993533611298, 0.949999988079071]"
      ]
     },
     "execution_count": 31,
     "metadata": {},
     "output_type": "execute_result"
    }
   ],
   "source": [
    "model.evaluate(X_test, y_test)"
   ]
  },
  {
   "cell_type": "code",
   "execution_count": 30,
   "id": "caef79d3-6e23-4e3f-9a80-1d33593d1950",
   "metadata": {},
   "outputs": [
    {
     "data": {
      "image/png": "[encoded data removed]",
      "text/plain": [
       "<Figure size 640x480 with 1 Axes>"
      ]
     },
     "metadata": {},
     "output_type": "display_data"
    }
   ],
   "source": [
    "# accuracy \n",
    "plt.plot(history.history['categorical_accuracy'])\n",
    "plt.plot(history.history['val_categorical_accuracy'])\n",
    "plt.title('model accuracy')\n",
    "plt.ylabel('accuracy')\n",
    "plt.xlabel('epoch')\n",
    "plt.legend(['train', 'val'], loc='upper left')\n",
    "plt.show()"
   ]
  },
  {
   "cell_type": "code",
   "execution_count": 32,
   "id": "0f536949-a9d6-4b88-a2cc-f0ba33e71198",
   "metadata": {},
   "outputs": [],
   "source": [
    "model.save('models/baseline_7class_9500.h5')"
   ]
  },
  {
   "cell_type": "code",
   "execution_count": null,
   "id": "88486055-e152-4977-a608-ce12d3fcf9a6",
   "metadata": {},
   "outputs": [],
   "source": []
  }
 ],
 "metadata": {
  "kernelspec": {
   "display_name": "Python [conda env:new-env]",
   "language": "python",
   "name": "conda-env-new-env-py"
  },
  "language_info": {
   "codemirror_mode": {
    "name": "ipython",
    "version": 3
   },
   "file_extension": ".py",
   "mimetype": "text/x-python",
   "name": "python",
   "nbconvert_exporter": "python",
   "pygments_lexer": "ipython3",
   "version": "3.10.6"
  }
 },
 "nbformat": 4,
 "nbformat_minor": 5
}
