{
 "cells": [
  {
   "cell_type": "markdown",
   "id": "32870a4e-f768-4eb2-9661-21e38dbf47ff",
   "metadata": {},
   "source": [
    "## Preprocessing "
   ]
  },
  {
   "cell_type": "code",
   "execution_count": 1,
   "id": "7533209e-2aad-423a-8434-eef0db5deaeb",
   "metadata": {},
   "outputs": [],
   "source": [
    "from sklearn.model_selection import train_test_split\n",
    "from tensorflow.keras.utils import to_categorical\n",
    "from sklearn.preprocessing import MinMaxScaler\n",
    "import numpy as np\n",
    "import os\n",
    "import tensorflow as tf\n",
    "import matplotlib.pyplot as plt"
   ]
  },
  {
   "cell_type": "code",
   "execution_count": 2,
   "id": "6748262e-f80c-4ba4-9ec3-50eb83796768",
   "metadata": {},
   "outputs": [],
   "source": [
    "actions = ['cold', 'dizziness', 'allergic_reaction']\n",
    "actions = np.array(actions)"
   ]
  },
  {
   "cell_type": "code",
   "execution_count": 3,
   "id": "300e4228-5053-4a7e-81d9-b63389ceb5c5",
   "metadata": {},
   "outputs": [],
   "source": [
    "label_map = {label:num for num, label in enumerate(actions)}"
   ]
  },
  {
   "cell_type": "code",
   "execution_count": 4,
   "id": "61a4f7f7-246c-4574-bd85-11b69c2e3f7f",
   "metadata": {},
   "outputs": [
    {
     "data": {
      "text/plain": [
       "{'cold': 0, 'dizziness': 1, 'allergic_reaction': 2}"
      ]
     },
     "execution_count": 4,
     "metadata": {},
     "output_type": "execute_result"
    }
   ],
   "source": [
    "label_map"
   ]
  },
  {
   "cell_type": "code",
   "execution_count": 5,
   "id": "ae6e31e2-7dd0-4f6c-bd7a-8536a918d93a",
   "metadata": {},
   "outputs": [
    {
     "name": "stdout",
     "output_type": "stream",
     "text": [
      "100\n"
     ]
    }
   ],
   "source": [
    "print(len([name for name in os.listdir(os.path.join('keypoints', 'allergic_reaction'))]))"
   ]
  },
  {
   "cell_type": "code",
   "execution_count": 6,
   "id": "789183c6-207b-49ed-a873-0493a68d59a1",
   "metadata": {},
   "outputs": [],
   "source": [
    "sequences, labels = [], []\n",
    "for action in actions:\n",
    "    for sequence in range(100):\n",
    "        window = []\n",
    "        for frame_num in range(90):\n",
    "            res = np.load(os.path.join('keypoints', action, str(sequence+1), \"{}.npy\".format(frame_num)))\n",
    "            window.append(res)\n",
    "        sequences.append(window)\n",
    "        labels.append(label_map[action])"
   ]
  },
  {
   "cell_type": "code",
   "execution_count": 7,
   "id": "4e5d8b57-ad9b-454e-98b4-34d164da20ea",
   "metadata": {},
   "outputs": [
    {
     "data": {
      "text/plain": [
       "(300, 90, 1662)"
      ]
     },
     "execution_count": 7,
     "metadata": {},
     "output_type": "execute_result"
    }
   ],
   "source": [
    "np.array(sequences).shape"
   ]
  },
  {
   "cell_type": "code",
   "execution_count": 8,
   "id": "6a2ef17c-f99c-43bd-835c-59a6f165504f",
   "metadata": {},
   "outputs": [
    {
     "data": {
      "text/plain": [
       "(300,)"
      ]
     },
     "execution_count": 8,
     "metadata": {},
     "output_type": "execute_result"
    }
   ],
   "source": [
    "np.array(labels).shape"
   ]
  },
  {
   "cell_type": "code",
   "execution_count": 9,
   "id": "ba932e00-3064-4272-a9ea-56fa0fb7d0d3",
   "metadata": {},
   "outputs": [],
   "source": [
    "X = np.array(sequences)"
   ]
  },
  {
   "cell_type": "code",
   "execution_count": 10,
   "id": "febfafd6-b121-4673-991a-fac74dbbb1b6",
   "metadata": {},
   "outputs": [
    {
     "data": {
      "text/plain": [
       "(300, 90, 1662)"
      ]
     },
     "execution_count": 10,
     "metadata": {},
     "output_type": "execute_result"
    }
   ],
   "source": [
    "X.shape"
   ]
  },
  {
   "cell_type": "code",
   "execution_count": 11,
   "id": "626fa06c-0da8-4039-aa5b-97fac9015da0",
   "metadata": {},
   "outputs": [],
   "source": [
    "y = to_categorical(labels).astype(int)"
   ]
  },
  {
   "cell_type": "code",
   "execution_count": 12,
   "id": "e3f58a76-b255-41ec-92d0-779deef26ad5",
   "metadata": {},
   "outputs": [
    {
     "data": {
      "text/plain": [
       "(300, 3)"
      ]
     },
     "execution_count": 12,
     "metadata": {},
     "output_type": "execute_result"
    }
   ],
   "source": [
    "y.shape"
   ]
  },
  {
   "cell_type": "code",
   "execution_count": 13,
   "id": "75ba8aaa-f14b-4063-8e29-42beb1607b4f",
   "metadata": {},
   "outputs": [],
   "source": [
    "scaler = MinMaxScaler(feature_range=(0,1))"
   ]
  },
  {
   "cell_type": "code",
   "execution_count": 14,
   "id": "c4de0212-0311-4933-a72e-66ebe4a51f98",
   "metadata": {},
   "outputs": [],
   "source": [
    "X_scale = scaler.fit_transform(X.reshape(X.shape[0], -1)).reshape(X.shape)"
   ]
  },
  {
   "cell_type": "code",
   "execution_count": 15,
   "id": "ecee39dd-2adc-48d9-8305-8a36a9713ed7",
   "metadata": {},
   "outputs": [],
   "source": [
    "X_train, X_test, y_train, y_test = train_test_split(X_scale, y, test_size=0.2)"
   ]
  },
  {
   "cell_type": "code",
   "execution_count": 16,
   "id": "0600a42e-1f6e-4d83-9aae-4bebfa7ad889",
   "metadata": {},
   "outputs": [
    {
     "data": {
      "text/plain": [
       "(60, 90, 1662)"
      ]
     },
     "execution_count": 16,
     "metadata": {},
     "output_type": "execute_result"
    }
   ],
   "source": [
    "X_test.shape"
   ]
  },
  {
   "cell_type": "code",
   "execution_count": 17,
   "id": "2d855458-fbc6-4d04-97e8-54c4a2ff48ac",
   "metadata": {},
   "outputs": [
    {
     "data": {
      "text/plain": [
       "(60, 3)"
      ]
     },
     "execution_count": 17,
     "metadata": {},
     "output_type": "execute_result"
    }
   ],
   "source": [
    "y_test.shape"
   ]
  },
  {
   "cell_type": "code",
   "execution_count": 18,
   "id": "875770f4-1fcf-422d-a5af-5069bfda086b",
   "metadata": {},
   "outputs": [
    {
     "data": {
      "text/plain": [
       "array([[0.37805881, 0.29654889, 0.7664673 , ..., 0.        , 0.        ,\n",
       "        1.        ],\n",
       "       [0.37000045, 0.29862157, 0.54764157, ..., 0.        , 0.        ,\n",
       "        1.        ],\n",
       "       [0.36201766, 0.29332789, 0.58925324, ..., 0.        , 0.        ,\n",
       "        1.        ],\n",
       "       ...,\n",
       "       [0.38464829, 0.17215488, 0.79586028, ..., 0.        , 0.        ,\n",
       "        0.96354887],\n",
       "       [0.38462709, 0.17524074, 0.78938108, ..., 0.        , 0.        ,\n",
       "        0.95612421],\n",
       "       [0.38554632, 0.18049955, 0.78391125, ..., 0.        , 0.        ,\n",
       "        0.94325545]])"
      ]
     },
     "execution_count": 18,
     "metadata": {},
     "output_type": "execute_result"
    }
   ],
   "source": [
    "X_train[0]"
   ]
  },
  {
   "cell_type": "markdown",
   "id": "c3c5b334-0397-4b72-a066-d534a83b06ac",
   "metadata": {},
   "source": [
    "## Build and Train LSTM Neural Network"
   ]
  },
  {
   "cell_type": "code",
   "execution_count": 19,
   "id": "ed84b3be-4758-4555-bdb6-801727f200b3",
   "metadata": {},
   "outputs": [],
   "source": [
    "from tensorflow.keras.models import Sequential\n",
    "from tensorflow.keras.layers import LSTM, Dense\n",
    "from tensorflow.keras.callbacks import TensorBoard"
   ]
  },
  {
   "cell_type": "code",
   "execution_count": 20,
   "id": "915923b7-d5ff-4400-bd1f-0bb6b7343d88",
   "metadata": {},
   "outputs": [],
   "source": [
    "log_dir = os.path.join('Logs')\n",
    "tb_callback = TensorBoard(log_dir=log_dir)"
   ]
  },
  {
   "cell_type": "code",
   "execution_count": 21,
   "id": "5a81e58a-8e0d-40b5-85f8-a06b87ca8703",
   "metadata": {},
   "outputs": [],
   "source": [
    "model = Sequential()\n",
    "model.add(LSTM(64, return_sequences=False, activation='relu', input_shape=(90, 1662)))\n",
    "model.add(Dense(64, activation='relu'))\n",
    "model.add(Dense(actions.shape[0], activation='softmax'))"
   ]
  },
  {
   "cell_type": "code",
   "execution_count": 22,
   "id": "0665b88e-15fc-4401-8c6b-25e99700ae5d",
   "metadata": {},
   "outputs": [],
   "source": [
    "model.compile(optimizer=tf.keras.optimizers.Adam(learning_rate=0.00001) , loss='categorical_crossentropy', metrics='categorical_accuracy')"
   ]
  },
  {
   "cell_type": "code",
   "execution_count": 23,
   "id": "23e4543a-77c0-4e2e-a745-b3357e7a8ef2",
   "metadata": {
    "collapsed": true,
    "jupyter": {
     "outputs_hidden": true
    },
    "tags": []
   },
   "outputs": [
    {
     "name": "stdout",
     "output_type": "stream",
     "text": [
      "Epoch 1/100\n"
     ]
    },
    {
     "name": "stderr",
     "output_type": "stream",
     "text": [
      "2022-12-02 08:15:06.000783: W tensorflow/core/platform/profile_utils/cpu_utils.cc:128] Failed to get CPU frequency: 0 Hz\n"
     ]
    },
    {
     "name": "stdout",
     "output_type": "stream",
     "text": [
      "6/6 [==============================] - 1s 104ms/step - loss: 1.6596 - categorical_accuracy: 0.3698 - val_loss: 1.6142 - val_categorical_accuracy: 0.2500\n",
      "Epoch 2/100\n",
      "6/6 [==============================] - 0s 55ms/step - loss: 1.2127 - categorical_accuracy: 0.3333 - val_loss: 1.3706 - val_categorical_accuracy: 0.2500\n",
      "Epoch 3/100\n",
      "6/6 [==============================] - 0s 61ms/step - loss: 1.1463 - categorical_accuracy: 0.3438 - val_loss: 1.2790 - val_categorical_accuracy: 0.2917\n",
      "Epoch 4/100\n",
      "6/6 [==============================] - 0s 52ms/step - loss: 1.1142 - categorical_accuracy: 0.3906 - val_loss: 1.2261 - val_categorical_accuracy: 0.3333\n",
      "Epoch 5/100\n",
      "6/6 [==============================] - 0s 55ms/step - loss: 1.0915 - categorical_accuracy: 0.4271 - val_loss: 1.1828 - val_categorical_accuracy: 0.3750\n",
      "Epoch 6/100\n",
      "6/6 [==============================] - 0s 54ms/step - loss: 1.0683 - categorical_accuracy: 0.4583 - val_loss: 1.1489 - val_categorical_accuracy: 0.3542\n",
      "Epoch 7/100\n",
      "6/6 [==============================] - 0s 63ms/step - loss: 1.0524 - categorical_accuracy: 0.4688 - val_loss: 1.1109 - val_categorical_accuracy: 0.4167\n",
      "Epoch 8/100\n",
      "6/6 [==============================] - 0s 79ms/step - loss: 1.0348 - categorical_accuracy: 0.4740 - val_loss: 1.0794 - val_categorical_accuracy: 0.4167\n",
      "Epoch 9/100\n",
      "6/6 [==============================] - 0s 73ms/step - loss: 1.0225 - categorical_accuracy: 0.4844 - val_loss: 1.0716 - val_categorical_accuracy: 0.4167\n",
      "Epoch 10/100\n",
      "6/6 [==============================] - 0s 73ms/step - loss: 1.0125 - categorical_accuracy: 0.5052 - val_loss: 1.0684 - val_categorical_accuracy: 0.4167\n",
      "Epoch 11/100\n",
      "6/6 [==============================] - 0s 75ms/step - loss: 1.0061 - categorical_accuracy: 0.5104 - val_loss: 1.0596 - val_categorical_accuracy: 0.3958\n",
      "Epoch 12/100\n",
      "6/6 [==============================] - 0s 76ms/step - loss: 0.9961 - categorical_accuracy: 0.5052 - val_loss: 1.0445 - val_categorical_accuracy: 0.3958\n",
      "Epoch 13/100\n",
      "6/6 [==============================] - 0s 83ms/step - loss: 0.9879 - categorical_accuracy: 0.4948 - val_loss: 1.0385 - val_categorical_accuracy: 0.3958\n",
      "Epoch 14/100\n",
      "6/6 [==============================] - 0s 85ms/step - loss: 0.9774 - categorical_accuracy: 0.4948 - val_loss: 1.0172 - val_categorical_accuracy: 0.4375\n",
      "Epoch 15/100\n",
      "6/6 [==============================] - 0s 82ms/step - loss: 0.9700 - categorical_accuracy: 0.5156 - val_loss: 1.0074 - val_categorical_accuracy: 0.4375\n",
      "Epoch 16/100\n",
      "6/6 [==============================] - 0s 84ms/step - loss: 0.9618 - categorical_accuracy: 0.5260 - val_loss: 0.9962 - val_categorical_accuracy: 0.4375\n",
      "Epoch 17/100\n",
      "6/6 [==============================] - 1s 89ms/step - loss: 0.9556 - categorical_accuracy: 0.5312 - val_loss: 0.9912 - val_categorical_accuracy: 0.4792\n",
      "Epoch 18/100\n",
      "6/6 [==============================] - 0s 76ms/step - loss: 0.9481 - categorical_accuracy: 0.5365 - val_loss: 0.9886 - val_categorical_accuracy: 0.4792\n",
      "Epoch 19/100\n",
      "6/6 [==============================] - 1s 89ms/step - loss: 0.9417 - categorical_accuracy: 0.5312 - val_loss: 0.9750 - val_categorical_accuracy: 0.4792\n",
      "Epoch 20/100\n",
      "6/6 [==============================] - 0s 81ms/step - loss: 0.9331 - categorical_accuracy: 0.5677 - val_loss: 0.9647 - val_categorical_accuracy: 0.4792\n",
      "Epoch 21/100\n",
      "6/6 [==============================] - 1s 93ms/step - loss: 0.9246 - categorical_accuracy: 0.5677 - val_loss: 0.9495 - val_categorical_accuracy: 0.4792\n",
      "Epoch 22/100\n",
      "6/6 [==============================] - 1s 88ms/step - loss: 0.9134 - categorical_accuracy: 0.5833 - val_loss: 0.9343 - val_categorical_accuracy: 0.5000\n",
      "Epoch 23/100\n",
      "6/6 [==============================] - 1s 87ms/step - loss: 0.9040 - categorical_accuracy: 0.5729 - val_loss: 0.9217 - val_categorical_accuracy: 0.4792\n",
      "Epoch 24/100\n",
      "6/6 [==============================] - 1s 89ms/step - loss: 0.8911 - categorical_accuracy: 0.5990 - val_loss: 0.8897 - val_categorical_accuracy: 0.5208\n",
      "Epoch 25/100\n",
      "6/6 [==============================] - 1s 95ms/step - loss: 0.8750 - categorical_accuracy: 0.5990 - val_loss: 0.8885 - val_categorical_accuracy: 0.5208\n",
      "Epoch 26/100\n",
      "6/6 [==============================] - 1s 92ms/step - loss: 0.8545 - categorical_accuracy: 0.6146 - val_loss: 0.8723 - val_categorical_accuracy: 0.5208\n",
      "Epoch 27/100\n",
      "6/6 [==============================] - 1s 97ms/step - loss: 0.8275 - categorical_accuracy: 0.6198 - val_loss: 0.8687 - val_categorical_accuracy: 0.6042\n",
      "Epoch 28/100\n",
      "6/6 [==============================] - 1s 91ms/step - loss: 0.8143 - categorical_accuracy: 0.6406 - val_loss: 0.8507 - val_categorical_accuracy: 0.5417\n",
      "Epoch 29/100\n",
      "6/6 [==============================] - 1s 89ms/step - loss: 1.0130 - categorical_accuracy: 0.5885 - val_loss: 0.9732 - val_categorical_accuracy: 0.5000\n",
      "Epoch 30/100\n",
      "6/6 [==============================] - 1s 93ms/step - loss: 0.9694 - categorical_accuracy: 0.5312 - val_loss: 0.9892 - val_categorical_accuracy: 0.4583\n",
      "Epoch 31/100\n",
      "6/6 [==============================] - 0s 82ms/step - loss: 0.9414 - categorical_accuracy: 0.5365 - val_loss: 0.9434 - val_categorical_accuracy: 0.4583\n",
      "Epoch 32/100\n",
      "6/6 [==============================] - 1s 89ms/step - loss: 0.8992 - categorical_accuracy: 0.5625 - val_loss: 0.8771 - val_categorical_accuracy: 0.5208\n",
      "Epoch 33/100\n",
      "6/6 [==============================] - 0s 70ms/step - loss: 0.8534 - categorical_accuracy: 0.6354 - val_loss: 0.8103 - val_categorical_accuracy: 0.5625\n",
      "Epoch 34/100\n",
      "6/6 [==============================] - 0s 83ms/step - loss: 0.8052 - categorical_accuracy: 0.6875 - val_loss: 0.9672 - val_categorical_accuracy: 0.6250\n",
      "Epoch 35/100\n",
      "6/6 [==============================] - 0s 83ms/step - loss: 0.8047 - categorical_accuracy: 0.6719 - val_loss: 0.8305 - val_categorical_accuracy: 0.6250\n",
      "Epoch 36/100\n",
      "6/6 [==============================] - 0s 82ms/step - loss: 0.7700 - categorical_accuracy: 0.6927 - val_loss: 0.7480 - val_categorical_accuracy: 0.6875\n",
      "Epoch 37/100\n",
      "6/6 [==============================] - 0s 85ms/step - loss: 0.7617 - categorical_accuracy: 0.6927 - val_loss: 0.7531 - val_categorical_accuracy: 0.6875\n",
      "Epoch 38/100\n",
      "6/6 [==============================] - 0s 65ms/step - loss: 0.7368 - categorical_accuracy: 0.6927 - val_loss: 0.7738 - val_categorical_accuracy: 0.6875\n",
      "Epoch 39/100\n",
      "6/6 [==============================] - 0s 64ms/step - loss: 0.7161 - categorical_accuracy: 0.6927 - val_loss: 0.7895 - val_categorical_accuracy: 0.6667\n",
      "Epoch 40/100\n",
      "6/6 [==============================] - 0s 62ms/step - loss: 0.7009 - categorical_accuracy: 0.6927 - val_loss: 0.7716 - val_categorical_accuracy: 0.6667\n",
      "Epoch 41/100\n",
      "6/6 [==============================] - 0s 62ms/step - loss: 0.6887 - categorical_accuracy: 0.6927 - val_loss: 0.7430 - val_categorical_accuracy: 0.6667\n",
      "Epoch 42/100\n",
      "6/6 [==============================] - 0s 85ms/step - loss: 0.6787 - categorical_accuracy: 0.6875 - val_loss: 0.7089 - val_categorical_accuracy: 0.6667\n",
      "Epoch 43/100\n",
      "6/6 [==============================] - 0s 81ms/step - loss: 0.6642 - categorical_accuracy: 0.6927 - val_loss: 0.7400 - val_categorical_accuracy: 0.6667\n",
      "Epoch 44/100\n",
      "6/6 [==============================] - 0s 80ms/step - loss: 0.6528 - categorical_accuracy: 0.6875 - val_loss: 0.7291 - val_categorical_accuracy: 0.6667\n",
      "Epoch 45/100\n",
      "6/6 [==============================] - 0s 78ms/step - loss: 0.6398 - categorical_accuracy: 0.7188 - val_loss: 0.7294 - val_categorical_accuracy: 0.6875\n",
      "Epoch 46/100\n",
      "6/6 [==============================] - 1s 84ms/step - loss: 0.6344 - categorical_accuracy: 0.7083 - val_loss: 0.7514 - val_categorical_accuracy: 0.6875\n",
      "Epoch 47/100\n",
      "6/6 [==============================] - 0s 77ms/step - loss: 0.6166 - categorical_accuracy: 0.7188 - val_loss: 0.7878 - val_categorical_accuracy: 0.7083\n",
      "Epoch 48/100\n",
      "6/6 [==============================] - 0s 79ms/step - loss: 0.5986 - categorical_accuracy: 0.7240 - val_loss: 0.7352 - val_categorical_accuracy: 0.7083\n",
      "Epoch 49/100\n",
      "6/6 [==============================] - 0s 75ms/step - loss: 0.5812 - categorical_accuracy: 0.7240 - val_loss: 0.7296 - val_categorical_accuracy: 0.7083\n",
      "Epoch 50/100\n",
      "6/6 [==============================] - 0s 79ms/step - loss: 0.5679 - categorical_accuracy: 0.7500 - val_loss: 0.7288 - val_categorical_accuracy: 0.7083\n",
      "Epoch 51/100\n",
      "6/6 [==============================] - 0s 82ms/step - loss: 0.5536 - categorical_accuracy: 0.7604 - val_loss: 0.6691 - val_categorical_accuracy: 0.7083\n",
      "Epoch 52/100\n",
      "6/6 [==============================] - 0s 76ms/step - loss: 0.6283 - categorical_accuracy: 0.7031 - val_loss: 0.8658 - val_categorical_accuracy: 0.6667\n",
      "Epoch 53/100\n",
      "6/6 [==============================] - 0s 80ms/step - loss: 0.6304 - categorical_accuracy: 0.7135 - val_loss: 1.1011 - val_categorical_accuracy: 0.6667\n",
      "Epoch 54/100\n",
      "6/6 [==============================] - 0s 77ms/step - loss: 0.7573 - categorical_accuracy: 0.6927 - val_loss: 0.5620 - val_categorical_accuracy: 0.7083\n",
      "Epoch 55/100\n",
      "6/6 [==============================] - 0s 83ms/step - loss: 0.7147 - categorical_accuracy: 0.6823 - val_loss: 0.6141 - val_categorical_accuracy: 0.6875\n",
      "Epoch 56/100\n",
      "6/6 [==============================] - 0s 76ms/step - loss: 0.7136 - categorical_accuracy: 0.6562 - val_loss: 1.8559 - val_categorical_accuracy: 0.6667\n",
      "Epoch 57/100\n",
      "6/6 [==============================] - 0s 80ms/step - loss: 1.0473 - categorical_accuracy: 0.6615 - val_loss: 0.5896 - val_categorical_accuracy: 0.7292\n",
      "Epoch 58/100\n",
      "6/6 [==============================] - 0s 83ms/step - loss: 0.7466 - categorical_accuracy: 0.7031 - val_loss: 1.6608 - val_categorical_accuracy: 0.6667\n",
      "Epoch 59/100\n",
      "6/6 [==============================] - 0s 83ms/step - loss: 1.0863 - categorical_accuracy: 0.7031 - val_loss: 2.1778 - val_categorical_accuracy: 0.6458\n",
      "Epoch 60/100\n",
      "6/6 [==============================] - 1s 83ms/step - loss: 0.7368 - categorical_accuracy: 0.7031 - val_loss: 0.8657 - val_categorical_accuracy: 0.6458\n",
      "Epoch 61/100\n",
      "6/6 [==============================] - 0s 84ms/step - loss: 0.6582 - categorical_accuracy: 0.7031 - val_loss: 0.6558 - val_categorical_accuracy: 0.6667\n",
      "Epoch 62/100\n",
      "6/6 [==============================] - 0s 83ms/step - loss: 0.6443 - categorical_accuracy: 0.7188 - val_loss: 0.6401 - val_categorical_accuracy: 0.6667\n",
      "Epoch 63/100\n",
      "6/6 [==============================] - 0s 82ms/step - loss: 0.6132 - categorical_accuracy: 0.7188 - val_loss: 0.6187 - val_categorical_accuracy: 0.6875\n",
      "Epoch 64/100\n",
      "6/6 [==============================] - 1s 89ms/step - loss: 0.5780 - categorical_accuracy: 0.7448 - val_loss: 0.5720 - val_categorical_accuracy: 0.6875\n",
      "Epoch 65/100\n",
      "6/6 [==============================] - 1s 89ms/step - loss: 0.5502 - categorical_accuracy: 0.7552 - val_loss: 0.7370 - val_categorical_accuracy: 0.6875\n",
      "Epoch 66/100\n",
      "6/6 [==============================] - 1s 87ms/step - loss: 0.5278 - categorical_accuracy: 0.7656 - val_loss: 1.2589 - val_categorical_accuracy: 0.6667\n",
      "Epoch 67/100\n",
      "6/6 [==============================] - 0s 76ms/step - loss: 0.6268 - categorical_accuracy: 0.7604 - val_loss: 1.1154 - val_categorical_accuracy: 0.7083\n",
      "Epoch 68/100\n",
      "6/6 [==============================] - 0s 80ms/step - loss: 0.5239 - categorical_accuracy: 0.7500 - val_loss: 0.8434 - val_categorical_accuracy: 0.7500\n",
      "Epoch 69/100\n",
      "6/6 [==============================] - 0s 81ms/step - loss: 0.5179 - categorical_accuracy: 0.7500 - val_loss: 0.8318 - val_categorical_accuracy: 0.7292\n",
      "Epoch 70/100\n",
      "6/6 [==============================] - 0s 84ms/step - loss: 0.5003 - categorical_accuracy: 0.7760 - val_loss: 0.8133 - val_categorical_accuracy: 0.7083\n",
      "Epoch 71/100\n",
      "6/6 [==============================] - 1s 87ms/step - loss: 0.4940 - categorical_accuracy: 0.7760 - val_loss: 0.7993 - val_categorical_accuracy: 0.6875\n",
      "Epoch 72/100\n",
      "6/6 [==============================] - 1s 86ms/step - loss: 0.4871 - categorical_accuracy: 0.7812 - val_loss: 0.7906 - val_categorical_accuracy: 0.6875\n",
      "Epoch 73/100\n",
      "6/6 [==============================] - 0s 84ms/step - loss: 0.4805 - categorical_accuracy: 0.7865 - val_loss: 0.7688 - val_categorical_accuracy: 0.6875\n",
      "Epoch 74/100\n",
      "6/6 [==============================] - 0s 81ms/step - loss: 0.4737 - categorical_accuracy: 0.7812 - val_loss: 0.7527 - val_categorical_accuracy: 0.7292\n",
      "Epoch 75/100\n",
      "6/6 [==============================] - 1s 86ms/step - loss: 0.4652 - categorical_accuracy: 0.7760 - val_loss: 0.7404 - val_categorical_accuracy: 0.7500\n",
      "Epoch 76/100\n",
      "6/6 [==============================] - 0s 83ms/step - loss: 0.4598 - categorical_accuracy: 0.7708 - val_loss: 0.7199 - val_categorical_accuracy: 0.7292\n",
      "Epoch 77/100\n",
      "6/6 [==============================] - 0s 82ms/step - loss: 0.4528 - categorical_accuracy: 0.7812 - val_loss: 0.9359 - val_categorical_accuracy: 0.6667\n",
      "Epoch 78/100\n",
      "6/6 [==============================] - 0s 87ms/step - loss: 0.4476 - categorical_accuracy: 0.7865 - val_loss: 1.0112 - val_categorical_accuracy: 0.6667\n",
      "Epoch 79/100\n",
      "6/6 [==============================] - 1s 89ms/step - loss: 0.4399 - categorical_accuracy: 0.7865 - val_loss: 1.0908 - val_categorical_accuracy: 0.7083\n",
      "Epoch 80/100\n",
      "6/6 [==============================] - 1s 97ms/step - loss: 0.4386 - categorical_accuracy: 0.7865 - val_loss: 1.1933 - val_categorical_accuracy: 0.6875\n",
      "Epoch 81/100\n",
      "6/6 [==============================] - 1s 95ms/step - loss: 0.4360 - categorical_accuracy: 0.7917 - val_loss: 1.2266 - val_categorical_accuracy: 0.7083\n",
      "Epoch 82/100\n",
      "6/6 [==============================] - 1s 91ms/step - loss: 0.4257 - categorical_accuracy: 0.7917 - val_loss: 1.2987 - val_categorical_accuracy: 0.6875\n",
      "Epoch 83/100\n",
      "6/6 [==============================] - 1s 99ms/step - loss: 0.4309 - categorical_accuracy: 0.7812 - val_loss: 1.2765 - val_categorical_accuracy: 0.7292\n",
      "Epoch 84/100\n",
      "6/6 [==============================] - 1s 102ms/step - loss: 0.4302 - categorical_accuracy: 0.7760 - val_loss: 1.1960 - val_categorical_accuracy: 0.7292\n",
      "Epoch 85/100\n",
      "6/6 [==============================] - 1s 102ms/step - loss: 0.4183 - categorical_accuracy: 0.7865 - val_loss: 1.3400 - val_categorical_accuracy: 0.7292\n",
      "Epoch 86/100\n",
      "6/6 [==============================] - 1s 96ms/step - loss: 0.4211 - categorical_accuracy: 0.7865 - val_loss: 1.2876 - val_categorical_accuracy: 0.7292\n",
      "Epoch 87/100\n",
      "6/6 [==============================] - 0s 69ms/step - loss: 0.4305 - categorical_accuracy: 0.7760 - val_loss: 1.4377 - val_categorical_accuracy: 0.7292\n",
      "Epoch 88/100\n",
      "6/6 [==============================] - 0s 62ms/step - loss: 0.4219 - categorical_accuracy: 0.7865 - val_loss: 1.5732 - val_categorical_accuracy: 0.7083\n",
      "Epoch 89/100\n",
      "6/6 [==============================] - 0s 74ms/step - loss: 0.4276 - categorical_accuracy: 0.7812 - val_loss: 0.7464 - val_categorical_accuracy: 0.7917\n",
      "Epoch 90/100\n",
      "6/6 [==============================] - 1s 101ms/step - loss: 0.5020 - categorical_accuracy: 0.7448 - val_loss: 0.8093 - val_categorical_accuracy: 0.7708\n",
      "Epoch 91/100\n",
      "6/6 [==============================] - 1s 91ms/step - loss: 0.4413 - categorical_accuracy: 0.7969 - val_loss: 0.8977 - val_categorical_accuracy: 0.7083\n",
      "Epoch 92/100\n",
      "6/6 [==============================] - 1s 106ms/step - loss: 0.4856 - categorical_accuracy: 0.7656 - val_loss: 0.9782 - val_categorical_accuracy: 0.7083\n",
      "Epoch 93/100\n",
      "6/6 [==============================] - 1s 97ms/step - loss: 0.4906 - categorical_accuracy: 0.7656 - val_loss: 1.0536 - val_categorical_accuracy: 0.7083\n",
      "Epoch 94/100\n",
      "6/6 [==============================] - 0s 78ms/step - loss: 0.4724 - categorical_accuracy: 0.7760 - val_loss: 0.9620 - val_categorical_accuracy: 0.7292\n",
      "Epoch 95/100\n",
      "6/6 [==============================] - 0s 81ms/step - loss: 0.4362 - categorical_accuracy: 0.7865 - val_loss: 0.8906 - val_categorical_accuracy: 0.7500\n",
      "Epoch 96/100\n",
      "6/6 [==============================] - 1s 88ms/step - loss: 0.4290 - categorical_accuracy: 0.7708 - val_loss: 0.8494 - val_categorical_accuracy: 0.7708\n",
      "Epoch 97/100\n",
      "6/6 [==============================] - 1s 90ms/step - loss: 0.4214 - categorical_accuracy: 0.7812 - val_loss: 0.8189 - val_categorical_accuracy: 0.7708\n",
      "Epoch 98/100\n",
      "6/6 [==============================] - 1s 88ms/step - loss: 0.4110 - categorical_accuracy: 0.7812 - val_loss: 0.7747 - val_categorical_accuracy: 0.7708\n",
      "Epoch 99/100\n",
      "6/6 [==============================] - 0s 74ms/step - loss: 0.4025 - categorical_accuracy: 0.7917 - val_loss: 0.7387 - val_categorical_accuracy: 0.7708\n",
      "Epoch 100/100\n",
      "6/6 [==============================] - 0s 77ms/step - loss: 0.3966 - categorical_accuracy: 0.7917 - val_loss: 0.7245 - val_categorical_accuracy: 0.7708\n"
     ]
    }
   ],
   "source": [
    "history = model.fit(X_train, y_train, epochs=100, validation_split=0.2)"
   ]
  },
  {
   "cell_type": "code",
   "execution_count": 24,
   "id": "dbd21ab5-9667-4d3b-9427-18bf44ddd744",
   "metadata": {
    "tags": []
   },
   "outputs": [
    {
     "name": "stdout",
     "output_type": "stream",
     "text": [
      "2/2 [==============================] - 0s 22ms/step - loss: 0.4511 - categorical_accuracy: 0.7667\n"
     ]
    },
    {
     "data": {
      "text/plain": [
       "[0.4511335492134094, 0.7666666507720947]"
      ]
     },
     "execution_count": 24,
     "metadata": {},
     "output_type": "execute_result"
    }
   ],
   "source": [
    "model.evaluate(X_test, y_test)"
   ]
  },
  {
   "cell_type": "code",
   "execution_count": 25,
   "id": "f3be151c-27bb-43c2-b49b-90729808839b",
   "metadata": {
    "tags": []
   },
   "outputs": [
    {
     "data": {
      "image/png": "[encoded data removed]",
      "text/plain": [
       "<Figure size 640x480 with 1 Axes>"
      ]
     },
     "metadata": {},
     "output_type": "display_data"
    }
   ],
   "source": [
    "# accuracy \n",
    "plt.plot(history.history['categorical_accuracy'])\n",
    "plt.plot(history.history['val_categorical_accuracy'])\n",
    "plt.title('model accuracy')\n",
    "plt.ylabel('accuracy')\n",
    "plt.xlabel('epoch')\n",
    "plt.legend(['train', 'val'], loc='upper left')\n",
    "plt.show()"
   ]
  },
  {
   "cell_type": "code",
   "execution_count": 26,
   "id": "53beff28-4a4e-4174-bdd2-152cde8b21a1",
   "metadata": {},
   "outputs": [
    {
     "name": "stdout",
     "output_type": "stream",
     "text": [
      "2/2 [==============================] - 0s 17ms/step\n"
     ]
    }
   ],
   "source": [
    "y_pred = model.predict(X_test)"
   ]
  },
  {
   "cell_type": "code",
   "execution_count": 27,
   "id": "9df2ad57-0aae-40b9-a0f4-5522cf98a4c9",
   "metadata": {},
   "outputs": [],
   "source": [
    "cm = tf.math.confusion_matrix(np.argmax(y_test, axis=1), np.argmax(y_pred, axis=1))"
   ]
  },
  {
   "cell_type": "code",
   "execution_count": 28,
   "id": "cf81635f-8626-4547-835c-de9a2d3edb14",
   "metadata": {},
   "outputs": [
    {
     "data": {
      "text/plain": [
       "<tf.Tensor: shape=(3, 3), dtype=int32, numpy=\n",
       "array([[16,  1,  1],\n",
       "       [ 2, 20,  1],\n",
       "       [ 9,  0, 10]], dtype=int32)>"
      ]
     },
     "execution_count": 28,
     "metadata": {},
     "output_type": "execute_result"
    }
   ],
   "source": [
    "cm"
   ]
  },
  {
   "cell_type": "code",
   "execution_count": 29,
   "id": "7c01053a-6544-4544-801d-6e72d436c917",
   "metadata": {},
   "outputs": [],
   "source": [
    "model.save('./baseline_3class_7667.h5')"
   ]
  },
  {
   "cell_type": "code",
   "execution_count": null,
   "id": "9f8ea5d4-e16d-462e-b4a2-4adb13a82d74",
   "metadata": {},
   "outputs": [],
   "source": []
  }
 ],
 "metadata": {
  "kernelspec": {
   "display_name": "Python [conda env:new-env]",
   "language": "python",
   "name": "conda-env-new-env-py"
  },
  "language_info": {
   "codemirror_mode": {
    "name": "ipython",
    "version": 3
   },
   "file_extension": ".py",
   "mimetype": "text/x-python",
   "name": "python",
   "nbconvert_exporter": "python",
   "pygments_lexer": "ipython3",
   "version": "3.10.6"
  }
 },
 "nbformat": 4,
 "nbformat_minor": 5
}
