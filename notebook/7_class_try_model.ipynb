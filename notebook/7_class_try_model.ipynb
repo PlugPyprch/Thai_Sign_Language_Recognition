{
 "cells": [
  {
   "cell_type": "code",
   "execution_count": 1,
   "id": "76da3ac4-d190-4a77-9ecd-e5db1ae71922",
   "metadata": {},
   "outputs": [],
   "source": [
    "from sklearn.model_selection import train_test_split\n",
    "from tensorflow.keras.utils import to_categorical\n",
    "from sklearn.preprocessing import MinMaxScaler\n",
    "import numpy as np\n",
    "import os\n",
    "import tensorflow as tf\n",
    "import matplotlib.pyplot as plt\n",
    "import pandas as pd\n",
    "import seaborn as sns"
   ]
  },
  {
   "cell_type": "code",
   "execution_count": 2,
   "id": "959a582a-6293-454c-9635-a0de2511041d",
   "metadata": {},
   "outputs": [],
   "source": [
    "actions = ['cold', 'dizziness', 'allergic_reaction', 'snot', 'unwell', 'hello', 'myself']\n",
    "actions = np.array(actions)"
   ]
  },
  {
   "cell_type": "code",
   "execution_count": 3,
   "id": "9b336879-ad9f-4a93-ad42-98f3365886b7",
   "metadata": {},
   "outputs": [],
   "source": [
    "label_map = {label:num for num, label in enumerate(actions)}"
   ]
  },
  {
   "cell_type": "code",
   "execution_count": 4,
   "id": "4ea888f0-3615-4754-be05-3b5900b44509",
   "metadata": {},
   "outputs": [
    {
     "data": {
      "text/plain": [
       "{'cold': 0,\n",
       " 'dizziness': 1,\n",
       " 'allergic_reaction': 2,\n",
       " 'snot': 3,\n",
       " 'unwell': 4,\n",
       " 'hello': 5,\n",
       " 'myself': 6}"
      ]
     },
     "execution_count": 4,
     "metadata": {},
     "output_type": "execute_result"
    }
   ],
   "source": [
    "label_map"
   ]
  },
  {
   "cell_type": "code",
   "execution_count": 5,
   "id": "0b8f9adb-8142-4f09-84b5-fb3208e01c7a",
   "metadata": {},
   "outputs": [],
   "source": [
    "sequences, labels = [], []\n",
    "for action in actions:\n",
    "    for sequence in range(200):\n",
    "        window = []\n",
    "        for frame_num in range(90):\n",
    "            res = np.load(os.path.join('keypoints', action, str(sequence+1), \"{}.npy\".format(frame_num)))\n",
    "            window.append(res)\n",
    "        sequences.append(window)\n",
    "        labels.append(label_map[action])"
   ]
  },
  {
   "cell_type": "code",
   "execution_count": 6,
   "id": "42bdd6ae-b656-43f9-a59b-88e772bfcf57",
   "metadata": {},
   "outputs": [
    {
     "data": {
      "text/plain": [
       "(1400, 90, 1662)"
      ]
     },
     "execution_count": 6,
     "metadata": {},
     "output_type": "execute_result"
    }
   ],
   "source": [
    "np.array(sequences).shape"
   ]
  },
  {
   "cell_type": "code",
   "execution_count": 7,
   "id": "bcd49b37-69f8-40dc-96b7-b62a2b5fca3a",
   "metadata": {},
   "outputs": [
    {
     "data": {
      "text/plain": [
       "(1400,)"
      ]
     },
     "execution_count": 7,
     "metadata": {},
     "output_type": "execute_result"
    }
   ],
   "source": [
    "np.array(labels).shape"
   ]
  },
  {
   "cell_type": "code",
   "execution_count": 8,
   "id": "42f22594-7baa-4fe3-8c51-0dc30428846c",
   "metadata": {},
   "outputs": [],
   "source": [
    "X = np.array(sequences)"
   ]
  },
  {
   "cell_type": "code",
   "execution_count": 9,
   "id": "33ca46c8-67e8-495d-949a-dfe8cc1a5cda",
   "metadata": {},
   "outputs": [
    {
     "data": {
      "text/plain": [
       "(1400, 90, 1662)"
      ]
     },
     "execution_count": 9,
     "metadata": {},
     "output_type": "execute_result"
    }
   ],
   "source": [
    "X.shape"
   ]
  },
  {
   "cell_type": "code",
   "execution_count": 10,
   "id": "6f1caedf-ada4-40a1-92b1-8878c232bfc4",
   "metadata": {},
   "outputs": [],
   "source": [
    "y = to_categorical(labels).astype(int)"
   ]
  },
  {
   "cell_type": "code",
   "execution_count": 11,
   "id": "67d5c11c-b602-47c7-82ad-8621533ac2df",
   "metadata": {},
   "outputs": [
    {
     "data": {
      "text/plain": [
       "(1400, 7)"
      ]
     },
     "execution_count": 11,
     "metadata": {},
     "output_type": "execute_result"
    }
   ],
   "source": [
    "y.shape"
   ]
  },
  {
   "cell_type": "code",
   "execution_count": 12,
   "id": "89eb453f-601b-40eb-aab4-49bf455dd395",
   "metadata": {},
   "outputs": [
    {
     "data": {
      "text/plain": [
       "array([1, 0, 0, 0, 0, 0, 0])"
      ]
     },
     "execution_count": 12,
     "metadata": {},
     "output_type": "execute_result"
    }
   ],
   "source": [
    "y[0]"
   ]
  },
  {
   "cell_type": "code",
   "execution_count": 13,
   "id": "cd7797ef-0ede-47e1-bc80-f5b9f72e2987",
   "metadata": {},
   "outputs": [],
   "source": [
    "scaler = MinMaxScaler(feature_range=(0,1))"
   ]
  },
  {
   "cell_type": "code",
   "execution_count": 14,
   "id": "0b603961-64a4-48e3-b20d-179bacb54272",
   "metadata": {},
   "outputs": [],
   "source": [
    "X_scale = scaler.fit_transform(X.reshape(X.shape[0], -1)).reshape(X.shape)"
   ]
  },
  {
   "cell_type": "code",
   "execution_count": 15,
   "id": "b9b30ee1-b86c-468c-9410-33faea939073",
   "metadata": {},
   "outputs": [],
   "source": [
    "X_train, X_test, y_train, y_test = train_test_split(X_scale, y, test_size=0.2)"
   ]
  },
  {
   "cell_type": "code",
   "execution_count": 16,
   "id": "7a25edcc-0c66-4fd9-93ee-6f231d689c4f",
   "metadata": {},
   "outputs": [
    {
     "data": {
      "text/plain": [
       "(280, 90, 1662)"
      ]
     },
     "execution_count": 16,
     "metadata": {},
     "output_type": "execute_result"
    }
   ],
   "source": [
    "X_test.shape"
   ]
  },
  {
   "cell_type": "code",
   "execution_count": 17,
   "id": "2f15944f-db2f-4d49-8984-c3a44ba1c0e2",
   "metadata": {},
   "outputs": [
    {
     "data": {
      "text/plain": [
       "(280, 7)"
      ]
     },
     "execution_count": 17,
     "metadata": {},
     "output_type": "execute_result"
    }
   ],
   "source": [
    "y_test.shape"
   ]
  },
  {
   "cell_type": "code",
   "execution_count": 18,
   "id": "86d33376-7d7d-43ec-9882-f129ce48b217",
   "metadata": {},
   "outputs": [],
   "source": [
    "model = tf.keras.models.load_model('models/baseline_7class_9500.h5')"
   ]
  },
  {
   "cell_type": "code",
   "execution_count": 19,
   "id": "b38f3daa-86eb-4370-9f6b-c7610fab4987",
   "metadata": {},
   "outputs": [
    {
     "name": "stderr",
     "output_type": "stream",
     "text": [
      "2023-01-09 15:54:22.036590: W tensorflow/core/platform/profile_utils/cpu_utils.cc:128] Failed to get CPU frequency: 0 Hz\n"
     ]
    },
    {
     "name": "stdout",
     "output_type": "stream",
     "text": [
      "9/9 [==============================] - 1s 16ms/step - loss: 0.1032 - categorical_accuracy: 0.9643\n"
     ]
    },
    {
     "data": {
      "text/plain": [
       "[0.10320667177438736, 0.9642857313156128]"
      ]
     },
     "execution_count": 19,
     "metadata": {},
     "output_type": "execute_result"
    }
   ],
   "source": [
    "model.evaluate(X_test, y_test)"
   ]
  },
  {
   "cell_type": "code",
   "execution_count": 20,
   "id": "d6d3ca23-6a28-4b43-b67f-fee83607c91d",
   "metadata": {},
   "outputs": [
    {
     "name": "stdout",
     "output_type": "stream",
     "text": [
      "1/1 [==============================] - 0s 95ms/step\n"
     ]
    }
   ],
   "source": [
    "y0_pred = model.predict(tf.expand_dims(X_test[1], axis=0))"
   ]
  },
  {
   "cell_type": "code",
   "execution_count": 21,
   "id": "9b59e4fe-e840-496d-b49e-edda9be33144",
   "metadata": {},
   "outputs": [
    {
     "data": {
      "text/plain": [
       "TensorShape([1, 90, 1662])"
      ]
     },
     "execution_count": 21,
     "metadata": {},
     "output_type": "execute_result"
    }
   ],
   "source": [
    "tf.expand_dims(X_test[1], axis=0).shape"
   ]
  },
  {
   "cell_type": "code",
   "execution_count": 22,
   "id": "ed95acfd-6542-4ad7-9f4b-dba30554f589",
   "metadata": {},
   "outputs": [
    {
     "data": {
      "text/plain": [
       "array([9.6769363e-01, 3.1260762e-02, 6.9906717e-05, 1.1319668e-04,\n",
       "       8.5672369e-04, 5.7386646e-06, 2.0378469e-08], dtype=float32)"
      ]
     },
     "execution_count": 22,
     "metadata": {},
     "output_type": "execute_result"
    }
   ],
   "source": [
    "y0_pred[0]"
   ]
  },
  {
   "cell_type": "code",
   "execution_count": 23,
   "id": "a5b0ff63-a09a-4347-a183-db9828e17dae",
   "metadata": {},
   "outputs": [],
   "source": [
    "from sklearn.metrics import confusion_matrix"
   ]
  },
  {
   "cell_type": "code",
   "execution_count": 24,
   "id": "aa6efc3f-2f62-46e8-819b-4a39d6d303f3",
   "metadata": {},
   "outputs": [
    {
     "name": "stdout",
     "output_type": "stream",
     "text": [
      "9/9 [==============================] - 0s 17ms/step\n"
     ]
    }
   ],
   "source": [
    "y_preds = model.predict(X_test)"
   ]
  },
  {
   "cell_type": "code",
   "execution_count": 25,
   "id": "7c6fab28-9559-49c2-afd4-665e1dbc15a0",
   "metadata": {},
   "outputs": [
    {
     "data": {
      "text/plain": [
       "array([[6.4951513e-05, 1.8746119e-04, 9.9937743e-01, ..., 1.8792781e-06,\n",
       "        1.0168408e-06, 1.1180824e-04],\n",
       "       [9.6769363e-01, 3.1260747e-02, 6.9906448e-05, ..., 8.5672416e-04,\n",
       "        5.7387088e-06, 2.0378469e-08],\n",
       "       [8.8865149e-01, 9.0776511e-02, 1.1365894e-03, ..., 1.8941736e-02,\n",
       "        2.8443610e-05, 8.4419580e-06],\n",
       "       ...,\n",
       "       [9.9997115e-01, 5.4139027e-06, 2.0117445e-09, ..., 5.2156233e-06,\n",
       "        6.7671300e-07, 6.7648678e-08],\n",
       "       [2.4947972e-06, 9.8207049e-05, 1.8742858e-05, ..., 1.0236790e-06,\n",
       "        1.0081918e-08, 1.4815389e-01],\n",
       "       [1.1777872e-02, 9.8627567e-01, 6.7502428e-06, ..., 1.3963832e-03,\n",
       "        4.2713145e-04, 3.2442748e-09]], dtype=float32)"
      ]
     },
     "execution_count": 25,
     "metadata": {},
     "output_type": "execute_result"
    }
   ],
   "source": [
    "y_preds"
   ]
  },
  {
   "cell_type": "code",
   "execution_count": 26,
   "id": "9646f28f-9dfd-4e21-a80e-f224ff1b521e",
   "metadata": {},
   "outputs": [],
   "source": [
    "cm = confusion_matrix(y_test.argmax(axis=1), y_preds.argmax(axis=1))"
   ]
  },
  {
   "cell_type": "code",
   "execution_count": 27,
   "id": "673595eb-9364-4538-b7ba-0e287b599061",
   "metadata": {},
   "outputs": [],
   "source": [
    "cm_df = pd.DataFrame(cm,\n",
    "                     index = ['cold', 'dizziness', 'allergic_reaction', 'snot', 'unwell', 'hello', 'myself'], \n",
    "                     columns = ['cold', 'dizziness', 'allergic_reaction', 'snot', 'unwell', 'hello', 'myself'])"
   ]
  },
  {
   "cell_type": "code",
   "execution_count": 28,
   "id": "5d92e333-98e8-4c36-af29-31f14005e349",
   "metadata": {},
   "outputs": [
    {
     "data": {
      "image/png": "[encoded data removed]",
      "text/plain": [
       "<Figure size 500x400 with 2 Axes>"
      ]
     },
     "metadata": {},
     "output_type": "display_data"
    }
   ],
   "source": [
    "#Plotting the confusion matrix\n",
    "plt.figure(figsize=(5,4))\n",
    "sns.heatmap(cm_df, annot=True)\n",
    "plt.title('Confusion Matrix')\n",
    "plt.ylabel('Actal Values')\n",
    "plt.xlabel('Predicted Values')\n",
    "plt.show()"
   ]
  },
  {
   "cell_type": "code",
   "execution_count": 29,
   "id": "e3df2739-6ca8-43ab-8733-83f68c203042",
   "metadata": {},
   "outputs": [
    {
     "data": {
      "text/plain": [
       "(90, 1662)"
      ]
     },
     "execution_count": 29,
     "metadata": {},
     "output_type": "execute_result"
    }
   ],
   "source": [
    "X[0].shape"
   ]
  },
  {
   "cell_type": "code",
   "execution_count": 30,
   "id": "f60351f9-546c-40af-933b-2a6b68768af3",
   "metadata": {},
   "outputs": [
    {
     "name": "stdout",
     "output_type": "stream",
     "text": [
      "/Users/alice/Documents/Plug/InternEver/SignLanguage/Notebooks/new_code\n"
     ]
    }
   ],
   "source": [
    "!pwd"
   ]
  },
  {
   "cell_type": "code",
   "execution_count": 31,
   "id": "69a0e2cb-b671-4704-88a1-6262477c6f6b",
   "metadata": {},
   "outputs": [
    {
     "name": "stdout",
     "output_type": "stream",
     "text": [
      "\u001b[1m\u001b[36m6\u001b[m\u001b[m                       augment_flip.py         preprocessing.ipynb\n",
      "7_class_try_model.ipynb class_names.txt         \u001b[1m\u001b[36mtest\u001b[m\u001b[m\n",
      "8_class.ipynb           collect_data.py         try_model.ipynb\n",
      "8_class_try_model.ipynb \u001b[1m\u001b[36mkeypoints\u001b[m\u001b[m               \u001b[1m\u001b[36mvideos\u001b[m\u001b[m\n",
      "Untitled.ipynb          \u001b[1m\u001b[36mmodels\u001b[m\u001b[m\n"
     ]
    }
   ],
   "source": [
    "!ls"
   ]
  },
  {
   "cell_type": "code",
   "execution_count": 32,
   "id": "313b174a-4a85-4e50-a21b-051ffd5a6ad9",
   "metadata": {},
   "outputs": [
    {
     "data": {
      "text/plain": [
       "(90, 1662)"
      ]
     },
     "execution_count": 32,
     "metadata": {},
     "output_type": "execute_result"
    }
   ],
   "source": [
    "X_test[1].shape"
   ]
  },
  {
   "cell_type": "code",
   "execution_count": 70,
   "id": "ea8c6f4c-999e-4ede-a076-d56f3693ec64",
   "metadata": {},
   "outputs": [],
   "source": [
    "test_new_file = []\n",
    "for frame_num in range(90):\n",
    "    res = np.load('keypoints/cold/4/{}.npy'.format(frame_num))\n",
    "    test_new_file.append(res)"
   ]
  },
  {
   "cell_type": "code",
   "execution_count": 71,
   "id": "c36bbc52-621b-4503-9e09-b0d614fa7e16",
   "metadata": {},
   "outputs": [],
   "source": [
    "test_new_file = np.array(test_new_file)"
   ]
  },
  {
   "cell_type": "code",
   "execution_count": 72,
   "id": "d50d4658-1214-4813-82d8-5ade852d1c5e",
   "metadata": {},
   "outputs": [],
   "source": [
    "test_new_file = scaler.fit_transform(test_new_file.reshape(test_new_file.shape[0], -1)).reshape(test_new_file.shape)"
   ]
  },
  {
   "cell_type": "code",
   "execution_count": 73,
   "id": "d3993316-f807-417d-820a-d767a4761bdd",
   "metadata": {},
   "outputs": [
    {
     "name": "stdout",
     "output_type": "stream",
     "text": [
      "1/1 [==============================] - 0s 22ms/step\n"
     ]
    }
   ],
   "source": [
    "new_pred = model.predict(tf.expand_dims(test_new_file, axis=0))"
   ]
  },
  {
   "cell_type": "code",
   "execution_count": 74,
   "id": "a81e8054-2eff-4adb-bc08-4a2c9ac6bd48",
   "metadata": {},
   "outputs": [
    {
     "data": {
      "text/plain": [
       "(1, 7)"
      ]
     },
     "execution_count": 74,
     "metadata": {},
     "output_type": "execute_result"
    }
   ],
   "source": [
    "new_pred.shape"
   ]
  },
  {
   "cell_type": "code",
   "execution_count": 75,
   "id": "e1a21cba-46be-4ffb-ac30-dbf59b7ede63",
   "metadata": {},
   "outputs": [
    {
     "data": {
      "text/plain": [
       "'cold'"
      ]
     },
     "execution_count": 75,
     "metadata": {},
     "output_type": "execute_result"
    }
   ],
   "source": [
    "result = actions[np.argmax(new_pred)]\n",
    "result"
   ]
  },
  {
   "cell_type": "code",
   "execution_count": null,
   "id": "ee122485-722e-4a40-8d16-8f326c3c907d",
   "metadata": {},
   "outputs": [],
   "source": []
  },
  {
   "cell_type": "code",
   "execution_count": null,
   "id": "f973c279-f8aa-49c4-96ef-ac7aa2abe576",
   "metadata": {},
   "outputs": [],
   "source": []
  }
 ],
 "metadata": {
  "kernelspec": {
   "display_name": "Python [conda env:new-env]",
   "language": "python",
   "name": "conda-env-new-env-py"
  },
  "language_info": {
   "codemirror_mode": {
    "name": "ipython",
    "version": 3
   },
   "file_extension": ".py",
   "mimetype": "text/x-python",
   "name": "python",
   "nbconvert_exporter": "python",
   "pygments_lexer": "ipython3",
   "version": "3.10.6"
  }
 },
 "nbformat": 4,
 "nbformat_minor": 5
}
