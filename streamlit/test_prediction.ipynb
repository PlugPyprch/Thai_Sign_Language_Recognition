{
 "cells": [
  {
   "cell_type": "code",
   "execution_count": 1,
   "id": "6a2265af-158b-42da-a420-b069b1eb3ec0",
   "metadata": {},
   "outputs": [
    {
     "name": "stderr",
     "output_type": "stream",
     "text": [
      "objc[46449]: Class CaptureDelegate is implemented in both /Users/alice/opt/anaconda3/envs/new-env/lib/python3.10/site-packages/cv2/cv2.abi3.so (0x141ea2538) and /Users/alice/opt/anaconda3/envs/new-env/lib/python3.10/site-packages/mediapipe/.dylibs/libopencv_videoio.3.4.16.dylib (0x1260d0860). One of the two will be used. Which one is undefined.\n",
      "objc[46449]: Class CVWindow is implemented in both /Users/alice/opt/anaconda3/envs/new-env/lib/python3.10/site-packages/cv2/cv2.abi3.so (0x141ea2588) and /Users/alice/opt/anaconda3/envs/new-env/lib/python3.10/site-packages/mediapipe/.dylibs/libopencv_highgui.3.4.16.dylib (0x1161a8a68). One of the two will be used. Which one is undefined.\n",
      "objc[46449]: Class CVView is implemented in both /Users/alice/opt/anaconda3/envs/new-env/lib/python3.10/site-packages/cv2/cv2.abi3.so (0x141ea25b0) and /Users/alice/opt/anaconda3/envs/new-env/lib/python3.10/site-packages/mediapipe/.dylibs/libopencv_highgui.3.4.16.dylib (0x1161a8a90). One of the two will be used. Which one is undefined.\n",
      "objc[46449]: Class CVSlider is implemented in both /Users/alice/opt/anaconda3/envs/new-env/lib/python3.10/site-packages/cv2/cv2.abi3.so (0x141ea25d8) and /Users/alice/opt/anaconda3/envs/new-env/lib/python3.10/site-packages/mediapipe/.dylibs/libopencv_highgui.3.4.16.dylib (0x1161a8ab8). One of the two will be used. Which one is undefined.\n"
     ]
    }
   ],
   "source": [
    "import cv2\n",
    "import numpy as np\n",
    "import os\n",
    "from matplotlib import pyplot as plt\n",
    "import time\n",
    "import mediapipe as mp\n",
    "from sklearn.model_selection import train_test_split\n",
    "from tensorflow.keras.utils import to_categorical\n",
    "from sklearn.preprocessing import MinMaxScaler\n",
    "import tensorflow as tf\n",
    "import matplotlib.pyplot as plt"
   ]
  },
  {
   "cell_type": "code",
   "execution_count": 2,
   "id": "6900ae96-d027-49b7-832c-f823020142f4",
   "metadata": {},
   "outputs": [],
   "source": [
    "class_name = ['cold', 'dizziness', 'allergic_reaction']"
   ]
  },
  {
   "cell_type": "code",
   "execution_count": 3,
   "id": "6c7d652c-5eb5-47cf-b9cd-0d79213896e2",
   "metadata": {},
   "outputs": [],
   "source": [
    "mp_holistic = mp.solutions.holistic\n",
    "mp_drawing = mp.solutions.drawing_utils "
   ]
  },
  {
   "cell_type": "code",
   "execution_count": 4,
   "id": "20451e21-dda1-444a-a45b-4d2bf60b3c97",
   "metadata": {},
   "outputs": [],
   "source": [
    "def mediapipe_detection(image, model):\n",
    "    image = cv2.cvtColor(image, cv2.COLOR_BGR2RGB) \n",
    "    image.flags.writeable = False                 \n",
    "    results = model.process(image)                 \n",
    "    image.flags.writeable = True                  \n",
    "    image = cv2.cvtColor(image, cv2.COLOR_RGB2BGR) \n",
    "    return image, results"
   ]
  },
  {
   "cell_type": "code",
   "execution_count": 5,
   "id": "50c50fe6-99d6-4345-9ff6-c609a23928f8",
   "metadata": {},
   "outputs": [],
   "source": [
    "def draw_landmarks(image, results):\n",
    "    mp_drawing.draw_landmarks(image, results.face_landmarks,\n",
    "                              mp_holistic.FACEMESH_TESSELATION) \n",
    "    \n",
    "    mp_drawing.draw_landmarks(image, results.pose_landmarks,\n",
    "                              mp_holistic.POSE_CONNECTIONS) \n",
    "    \n",
    "    mp_drawing.draw_landmarks(image, results.left_hand_landmarks,\n",
    "                              mp_holistic.HAND_CONNECTIONS) \n",
    "    \n",
    "    mp_drawing.draw_landmarks(image, results.right_hand_landmarks,\n",
    "                              mp_holistic.HAND_CONNECTIONS) "
   ]
  },
  {
   "cell_type": "code",
   "execution_count": 6,
   "id": "4c797e1a-d212-4a5c-ae77-39d3c871aa73",
   "metadata": {},
   "outputs": [],
   "source": [
    "def extract_keypoints(results):\n",
    "    pose = np.array([[res.x, res.y, res.z, res.visibility] for res in results.pose_landmarks.landmark]).flatten() if results.pose_landmarks else np.zeros(33*4)\n",
    "    #print(pose)\n",
    "\n",
    "    face = np.array([[res.x, res.y, res.z] for res in results.face_landmarks.landmark]).flatten() if results.face_landmarks else np.zeros(468*3)\n",
    "    #print(face)\n",
    "\n",
    "    left_hand = np.array([[res.x, res.y, res.z] for res in results.left_hand_landmarks.landmark]).flatten() if results.left_hand_landmarks else np.zeros(21*3)\n",
    "    #print(left_hand)\n",
    "\n",
    "    right_hand = np.array([[res.x, res.y, res.z] for res in results.right_hand_landmarks.landmark]).flatten() if results.right_hand_landmarks else np.zeros(21*3)\n",
    "    #print(right_hand)\n",
    "    \n",
    "    return np.concatenate([pose, face, left_hand, right_hand])"
   ]
  },
  {
   "cell_type": "code",
   "execution_count": 7,
   "id": "dc37270c-2945-4a05-ad53-a16b52d0fcfd",
   "metadata": {},
   "outputs": [],
   "source": [
    "def ex_key(name_file):\n",
    "    list_data = []\n",
    "    cap = cv2.VideoCapture(name_file)\n",
    "    with mp_holistic.Holistic(min_detection_confidence=0.5, min_tracking_confidence=0.5) as holistic:\n",
    "        # Loop through video length aka sequence length\n",
    "        for frame_num in range(90):\n",
    "\n",
    "            # Read feed\n",
    "            ret, frame = cap.read()\n",
    "\n",
    "            # Make detections\n",
    "            image, results = mediapipe_detection(frame, holistic)\n",
    "            keypoints = extract_keypoints(results)\n",
    "            list_data.append(keypoints)\n",
    "\n",
    "            # Break gracefully\n",
    "            if cv2.waitKey(10) & 0xFF == ord('q'):\n",
    "                break\n",
    "\n",
    "    cap.release()\n",
    "    cv2.destroyAllWindows()\n",
    "    arr_data = np.array(list_data)\n",
    "    print(arr_data.shape)\n",
    "    return arr_data"
   ]
  },
  {
   "cell_type": "code",
   "execution_count": 35,
   "id": "9e4e8e01-b8e0-41e1-9468-841c2b27484b",
   "metadata": {},
   "outputs": [
    {
     "name": "stdout",
     "output_type": "stream",
     "text": [
      "(90, 1662)\n"
     ]
    }
   ],
   "source": [
    "p_data = ex_key(os.path.join('videos','2222.mp4'))"
   ]
  },
  {
   "cell_type": "code",
   "execution_count": 36,
   "id": "fc5304c7-09c1-424f-b439-f11c37b27dea",
   "metadata": {},
   "outputs": [],
   "source": [
    "scaler = MinMaxScaler(feature_range=(0,1))"
   ]
  },
  {
   "cell_type": "code",
   "execution_count": 37,
   "id": "e95075e4-7122-49ff-9f41-832c56a8b385",
   "metadata": {},
   "outputs": [],
   "source": [
    "p_data = scaler.fit_transform(p_data.reshape(p_data.shape[0], -1)).reshape(p_data.shape)"
   ]
  },
  {
   "cell_type": "code",
   "execution_count": 38,
   "id": "ed158a67-0d2f-482c-8d0e-bdb6f2e5d3cd",
   "metadata": {},
   "outputs": [],
   "source": [
    "model = tf.keras.models.load_model('baseline_3class_7667.h5')"
   ]
  },
  {
   "cell_type": "code",
   "execution_count": 39,
   "id": "6780da94-da12-411e-a212-72a96b8f55f2",
   "metadata": {},
   "outputs": [
    {
     "name": "stdout",
     "output_type": "stream",
     "text": [
      "1/1 [==============================] - 0s 99ms/step\n"
     ]
    }
   ],
   "source": [
    "prediction = model.predict(tf.expand_dims(p_data, axis=0))"
   ]
  },
  {
   "cell_type": "code",
   "execution_count": 40,
   "id": "94b6526c-ffe5-4122-a85b-d41f1f812bf5",
   "metadata": {},
   "outputs": [
    {
     "data": {
      "text/plain": [
       "array([[0.9769927 , 0.01403888, 0.00896842]], dtype=float32)"
      ]
     },
     "execution_count": 40,
     "metadata": {},
     "output_type": "execute_result"
    }
   ],
   "source": [
    "prediction"
   ]
  },
  {
   "cell_type": "code",
   "execution_count": 41,
   "id": "06c02d0d-58c6-418a-8517-4a92a03d699f",
   "metadata": {},
   "outputs": [
    {
     "data": {
      "text/plain": [
       "0"
      ]
     },
     "execution_count": 41,
     "metadata": {},
     "output_type": "execute_result"
    }
   ],
   "source": [
    "np.argmax(prediction)"
   ]
  },
  {
   "cell_type": "code",
   "execution_count": 42,
   "id": "497ed02b-eaf0-4a52-86eb-2e43bffc6152",
   "metadata": {},
   "outputs": [],
   "source": [
    "result = class_name[np.argmax(prediction)]"
   ]
  },
  {
   "cell_type": "code",
   "execution_count": 43,
   "id": "c5bd2031-6d2a-40a8-96f7-02d40d1b30fe",
   "metadata": {},
   "outputs": [
    {
     "data": {
      "text/plain": [
       "'cold'"
      ]
     },
     "execution_count": 43,
     "metadata": {},
     "output_type": "execute_result"
    }
   ],
   "source": [
    "result"
   ]
  },
  {
   "cell_type": "code",
   "execution_count": null,
   "id": "7b067fbd-d779-400e-8921-5c2fd9616b33",
   "metadata": {},
   "outputs": [],
   "source": []
  },
  {
   "cell_type": "code",
   "execution_count": null,
   "id": "828085bd-0da1-4a41-9085-2d1b26bb847d",
   "metadata": {},
   "outputs": [],
   "source": []
  }
 ],
 "metadata": {
  "kernelspec": {
   "display_name": "Python 3 (ipykernel)",
   "language": "python",
   "name": "python3"
  },
  "language_info": {
   "codemirror_mode": {
    "name": "ipython",
    "version": 3
   },
   "file_extension": ".py",
   "mimetype": "text/x-python",
   "name": "python",
   "nbconvert_exporter": "python",
   "pygments_lexer": "ipython3",
   "version": "3.9.12"
  },
  "vscode": {
   "interpreter": {
    "hash": "3442886cc22d20fdd503723d8940c97cb315c708606da579e1fbe7ed225a1c99"
   }
  }
 },
 "nbformat": 4,
 "nbformat_minor": 5
}
